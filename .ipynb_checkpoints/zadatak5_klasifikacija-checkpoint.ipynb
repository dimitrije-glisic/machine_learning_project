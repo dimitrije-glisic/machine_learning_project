{
 "cells": [
  {
   "cell_type": "code",
   "execution_count": 1,
   "metadata": {},
   "outputs": [
    {
     "name": "stdout",
     "output_type": "stream",
     "text": [
      "['/usr/lib/python36.zip', '/usr/lib/python3.6', '/usr/lib/python3.6/lib-dynload', '', '/home/upflo/fakultet/psz/venv/lib/python3.6/site-packages', '/home/upflo/fakultet/psz/venv/lib/python3.6/site-packages/IPython/extensions', '/home/upflo/.ipython']\n"
     ]
    }
   ],
   "source": [
    "import sys\n",
    "print(sys.path)\n",
    "sys.path.append('/home/upflo/.local/lib/python3.6/site-packages')\n",
    "\n",
    "import pandas as pd\n",
    "import numpy as np\n",
    "import math\n",
    "\n",
    "import matplotlib.pyplot as plt\n",
    "from matplotlib.pyplot import figure\n",
    "\n",
    "import seaborn as sns\n",
    "sns.set(style=\"darkgrid\")\n",
    "%matplotlib inline\n",
    "\n",
    "from sklearn.model_selection import train_test_split\n",
    "from sklearn.model_selection import cross_val_score\n",
    "from sklearn.neighbors import KNeighborsClassifier\n",
    "from sklearn.preprocessing import StandardScaler\n",
    "from sklearn.metrics import accuracy_score"
   ]
  },
  {
   "cell_type": "code",
   "execution_count": 2,
   "metadata": {},
   "outputs": [],
   "source": [
    "df = pd.read_csv('./podaci/ready_data_backup.csv', lineterminator='\\n', header='infer')"
   ]
  },
  {
   "cell_type": "code",
   "execution_count": 3,
   "metadata": {},
   "outputs": [
    {
     "data": {
      "text/html": [
       "<div>\n",
       "<style scoped>\n",
       "    .dataframe tbody tr th:only-of-type {\n",
       "        vertical-align: middle;\n",
       "    }\n",
       "\n",
       "    .dataframe tbody tr th {\n",
       "        vertical-align: top;\n",
       "    }\n",
       "\n",
       "    .dataframe thead th {\n",
       "        text-align: right;\n",
       "    }\n",
       "</style>\n",
       "<table border=\"1\" class=\"dataframe\">\n",
       "  <thead>\n",
       "    <tr style=\"text-align: right;\">\n",
       "      <th></th>\n",
       "      <th>cena</th>\n",
       "      <th>povrsina</th>\n",
       "      <th>grejanje</th>\n",
       "      <th>spratnost</th>\n",
       "      <th>infrastruktura</th>\n",
       "      <th>udaljenost_od_centra</th>\n",
       "    </tr>\n",
       "  </thead>\n",
       "  <tbody>\n",
       "    <tr>\n",
       "      <th>0</th>\n",
       "      <td>2000.0</td>\n",
       "      <td>50.0</td>\n",
       "      <td>grejanje na struju</td>\n",
       "      <td>prizemlje</td>\n",
       "      <td>nema</td>\n",
       "      <td>3.481600</td>\n",
       "    </tr>\n",
       "    <tr>\n",
       "      <th>1</th>\n",
       "      <td>275000.0</td>\n",
       "      <td>162.0</td>\n",
       "      <td>etažno grejanje</td>\n",
       "      <td>3</td>\n",
       "      <td>ima</td>\n",
       "      <td>4.063796</td>\n",
       "    </tr>\n",
       "    <tr>\n",
       "      <th>2</th>\n",
       "      <td>270000.0</td>\n",
       "      <td>105.0</td>\n",
       "      <td>centralno grejanje</td>\n",
       "      <td>3</td>\n",
       "      <td>ima</td>\n",
       "      <td>1.526104</td>\n",
       "    </tr>\n",
       "    <tr>\n",
       "      <th>3</th>\n",
       "      <td>610000.0</td>\n",
       "      <td>153.0</td>\n",
       "      <td>podno grejanje</td>\n",
       "      <td>1</td>\n",
       "      <td>ima</td>\n",
       "      <td>2.779669</td>\n",
       "    </tr>\n",
       "    <tr>\n",
       "      <th>4</th>\n",
       "      <td>193000.0</td>\n",
       "      <td>72.0</td>\n",
       "      <td>TA peć</td>\n",
       "      <td>5</td>\n",
       "      <td>ima</td>\n",
       "      <td>0.430149</td>\n",
       "    </tr>\n",
       "  </tbody>\n",
       "</table>\n",
       "</div>"
      ],
      "text/plain": [
       "       cena  povrsina            grejanje  spratnost infrastruktura  \\\n",
       "0    2000.0      50.0  grejanje na struju  prizemlje           nema   \n",
       "1  275000.0     162.0     etažno grejanje          3            ima   \n",
       "2  270000.0     105.0  centralno grejanje          3            ima   \n",
       "3  610000.0     153.0      podno grejanje          1            ima   \n",
       "4  193000.0      72.0              TA peć          5            ima   \n",
       "\n",
       "   udaljenost_od_centra  \n",
       "0              3.481600  \n",
       "1              4.063796  \n",
       "2              1.526104  \n",
       "3              2.779669  \n",
       "4              0.430149  "
      ]
     },
     "execution_count": 3,
     "metadata": {},
     "output_type": "execute_result"
    }
   ],
   "source": [
    "df.head()"
   ]
  },
  {
   "cell_type": "markdown",
   "metadata": {},
   "source": [
    "## Grupisanje ciljanje promenljive - cena (primprema za Knn klasifikaciju)"
   ]
  },
  {
   "cell_type": "code",
   "execution_count": 4,
   "metadata": {},
   "outputs": [],
   "source": [
    "bins = [0, 50000, 100000, 150000, 200000, np.inf]\n",
    "labels=['<50', '50-100', '100-150', '150-200', '>200']\n",
    "df.cena = pd.cut(df['cena'], bins=bins, labels=labels)"
   ]
  },
  {
   "cell_type": "code",
   "execution_count": 5,
   "metadata": {},
   "outputs": [
    {
     "data": {
      "text/html": [
       "<div>\n",
       "<style scoped>\n",
       "    .dataframe tbody tr th:only-of-type {\n",
       "        vertical-align: middle;\n",
       "    }\n",
       "\n",
       "    .dataframe tbody tr th {\n",
       "        vertical-align: top;\n",
       "    }\n",
       "\n",
       "    .dataframe thead th {\n",
       "        text-align: right;\n",
       "    }\n",
       "</style>\n",
       "<table border=\"1\" class=\"dataframe\">\n",
       "  <thead>\n",
       "    <tr style=\"text-align: right;\">\n",
       "      <th></th>\n",
       "      <th>cena</th>\n",
       "      <th>povrsina</th>\n",
       "      <th>grejanje</th>\n",
       "      <th>spratnost</th>\n",
       "      <th>infrastruktura</th>\n",
       "      <th>udaljenost_od_centra</th>\n",
       "    </tr>\n",
       "  </thead>\n",
       "  <tbody>\n",
       "    <tr>\n",
       "      <th>0</th>\n",
       "      <td>&lt;50</td>\n",
       "      <td>50.0</td>\n",
       "      <td>grejanje na struju</td>\n",
       "      <td>prizemlje</td>\n",
       "      <td>nema</td>\n",
       "      <td>3.481600</td>\n",
       "    </tr>\n",
       "    <tr>\n",
       "      <th>1</th>\n",
       "      <td>&gt;200</td>\n",
       "      <td>162.0</td>\n",
       "      <td>etažno grejanje</td>\n",
       "      <td>3</td>\n",
       "      <td>ima</td>\n",
       "      <td>4.063796</td>\n",
       "    </tr>\n",
       "    <tr>\n",
       "      <th>2</th>\n",
       "      <td>&gt;200</td>\n",
       "      <td>105.0</td>\n",
       "      <td>centralno grejanje</td>\n",
       "      <td>3</td>\n",
       "      <td>ima</td>\n",
       "      <td>1.526104</td>\n",
       "    </tr>\n",
       "    <tr>\n",
       "      <th>3</th>\n",
       "      <td>&gt;200</td>\n",
       "      <td>153.0</td>\n",
       "      <td>podno grejanje</td>\n",
       "      <td>1</td>\n",
       "      <td>ima</td>\n",
       "      <td>2.779669</td>\n",
       "    </tr>\n",
       "    <tr>\n",
       "      <th>4</th>\n",
       "      <td>150-200</td>\n",
       "      <td>72.0</td>\n",
       "      <td>TA peć</td>\n",
       "      <td>5</td>\n",
       "      <td>ima</td>\n",
       "      <td>0.430149</td>\n",
       "    </tr>\n",
       "  </tbody>\n",
       "</table>\n",
       "</div>"
      ],
      "text/plain": [
       "      cena  povrsina            grejanje  spratnost infrastruktura  \\\n",
       "0      <50      50.0  grejanje na struju  prizemlje           nema   \n",
       "1     >200     162.0     etažno grejanje          3            ima   \n",
       "2     >200     105.0  centralno grejanje          3            ima   \n",
       "3     >200     153.0      podno grejanje          1            ima   \n",
       "4  150-200      72.0              TA peć          5            ima   \n",
       "\n",
       "   udaljenost_od_centra  \n",
       "0              3.481600  \n",
       "1              4.063796  \n",
       "2              1.526104  \n",
       "3              2.779669  \n",
       "4              0.430149  "
      ]
     },
     "execution_count": 5,
     "metadata": {},
     "output_type": "execute_result"
    }
   ],
   "source": [
    "df.head()"
   ]
  },
  {
   "cell_type": "code",
   "execution_count": 6,
   "metadata": {},
   "outputs": [
    {
     "data": {
      "text/plain": [
       "<AxesSubplot:xlabel='cena', ylabel='broj_nekretnina'>"
      ]
     },
     "execution_count": 6,
     "metadata": {},
     "output_type": "execute_result"
    },
    {
     "data": {
      "image/png": "[encoded data removed]",
      "text/plain": [
       "<Figure size 864x576 with 1 Axes>"
      ]
     },
     "metadata": {
      "needs_background": "light"
     },
     "output_type": "display_data"
    }
   ],
   "source": [
    "groups = pd.read_csv('./podaci/ready_data_backup.csv', lineterminator='\\n', header='infer')\n",
    "groups=groups.groupby(pd.cut(groups['cena'], bins=bins, labels=labels)).size().reset_index(name='broj_nekretnina')\n",
    "\n",
    "figure(figsize=(12, 8))\n",
    "sns.barplot(x=groups['cena'], y=groups['broj_nekretnina'])"
   ]
  },
  {
   "cell_type": "code",
   "execution_count": 7,
   "metadata": {},
   "outputs": [],
   "source": [
    "features = pd.get_dummies(df.drop('cena', axis=1))"
   ]
  },
  {
   "cell_type": "markdown",
   "metadata": {},
   "source": [
    "## Skaliranje numerickih promenljivih"
   ]
  },
  {
   "cell_type": "code",
   "execution_count": 8,
   "metadata": {},
   "outputs": [],
   "source": [
    "scaler = StandardScaler()\n",
    "\n",
    "scaler.fit(features[['povrsina', 'udaljenost_od_centra']])\n",
    "scaled_features = scaler.transform(features[['povrsina', 'udaljenost_od_centra']])\n",
    "features.povrsina, features.udaljenost_od_centra = scaled_features[:, 0], scaled_features[:, 1]"
   ]
  },
  {
   "cell_type": "code",
   "execution_count": 9,
   "metadata": {},
   "outputs": [
    {
     "data": {
      "text/html": [
       "<div>\n",
       "<style scoped>\n",
       "    .dataframe tbody tr th:only-of-type {\n",
       "        vertical-align: middle;\n",
       "    }\n",
       "\n",
       "    .dataframe tbody tr th {\n",
       "        vertical-align: top;\n",
       "    }\n",
       "\n",
       "    .dataframe thead th {\n",
       "        text-align: right;\n",
       "    }\n",
       "</style>\n",
       "<table border=\"1\" class=\"dataframe\">\n",
       "  <thead>\n",
       "    <tr style=\"text-align: right;\">\n",
       "      <th></th>\n",
       "      <th>povrsina</th>\n",
       "      <th>udaljenost_od_centra</th>\n",
       "      <th>grejanje_TA peć</th>\n",
       "      <th>grejanje_centralno grejanje</th>\n",
       "      <th>grejanje_etažno grejanje</th>\n",
       "      <th>grejanje_grejanje na gas</th>\n",
       "      <th>grejanje_grejanje na struju</th>\n",
       "      <th>grejanje_kaljeva peć</th>\n",
       "      <th>grejanje_norveški radijatori</th>\n",
       "      <th>grejanje_podno grejanje</th>\n",
       "      <th>...</th>\n",
       "      <th>spratnost_4</th>\n",
       "      <th>spratnost_5</th>\n",
       "      <th>spratnost_6</th>\n",
       "      <th>spratnost_7</th>\n",
       "      <th>spratnost_&gt;7</th>\n",
       "      <th>spratnost_potkrovlje</th>\n",
       "      <th>spratnost_prizemlje</th>\n",
       "      <th>spratnost_suteren</th>\n",
       "      <th>infrastruktura_ima</th>\n",
       "      <th>infrastruktura_nema</th>\n",
       "    </tr>\n",
       "  </thead>\n",
       "  <tbody>\n",
       "    <tr>\n",
       "      <th>0</th>\n",
       "      <td>-0.683886</td>\n",
       "      <td>-0.303323</td>\n",
       "      <td>0</td>\n",
       "      <td>0</td>\n",
       "      <td>0</td>\n",
       "      <td>0</td>\n",
       "      <td>1</td>\n",
       "      <td>0</td>\n",
       "      <td>0</td>\n",
       "      <td>0</td>\n",
       "      <td>...</td>\n",
       "      <td>0</td>\n",
       "      <td>0</td>\n",
       "      <td>0</td>\n",
       "      <td>0</td>\n",
       "      <td>0</td>\n",
       "      <td>0</td>\n",
       "      <td>1</td>\n",
       "      <td>0</td>\n",
       "      <td>0</td>\n",
       "      <td>1</td>\n",
       "    </tr>\n",
       "    <tr>\n",
       "      <th>1</th>\n",
       "      <td>2.165563</td>\n",
       "      <td>-0.090072</td>\n",
       "      <td>0</td>\n",
       "      <td>0</td>\n",
       "      <td>1</td>\n",
       "      <td>0</td>\n",
       "      <td>0</td>\n",
       "      <td>0</td>\n",
       "      <td>0</td>\n",
       "      <td>0</td>\n",
       "      <td>...</td>\n",
       "      <td>0</td>\n",
       "      <td>0</td>\n",
       "      <td>0</td>\n",
       "      <td>0</td>\n",
       "      <td>0</td>\n",
       "      <td>0</td>\n",
       "      <td>0</td>\n",
       "      <td>0</td>\n",
       "      <td>1</td>\n",
       "      <td>0</td>\n",
       "    </tr>\n",
       "    <tr>\n",
       "      <th>2</th>\n",
       "      <td>0.715397</td>\n",
       "      <td>-1.019596</td>\n",
       "      <td>0</td>\n",
       "      <td>1</td>\n",
       "      <td>0</td>\n",
       "      <td>0</td>\n",
       "      <td>0</td>\n",
       "      <td>0</td>\n",
       "      <td>0</td>\n",
       "      <td>0</td>\n",
       "      <td>...</td>\n",
       "      <td>0</td>\n",
       "      <td>0</td>\n",
       "      <td>0</td>\n",
       "      <td>0</td>\n",
       "      <td>0</td>\n",
       "      <td>0</td>\n",
       "      <td>0</td>\n",
       "      <td>0</td>\n",
       "      <td>1</td>\n",
       "      <td>0</td>\n",
       "    </tr>\n",
       "    <tr>\n",
       "      <th>3</th>\n",
       "      <td>1.936590</td>\n",
       "      <td>-0.560431</td>\n",
       "      <td>0</td>\n",
       "      <td>0</td>\n",
       "      <td>0</td>\n",
       "      <td>0</td>\n",
       "      <td>0</td>\n",
       "      <td>0</td>\n",
       "      <td>0</td>\n",
       "      <td>1</td>\n",
       "      <td>...</td>\n",
       "      <td>0</td>\n",
       "      <td>0</td>\n",
       "      <td>0</td>\n",
       "      <td>0</td>\n",
       "      <td>0</td>\n",
       "      <td>0</td>\n",
       "      <td>0</td>\n",
       "      <td>0</td>\n",
       "      <td>1</td>\n",
       "      <td>0</td>\n",
       "    </tr>\n",
       "    <tr>\n",
       "      <th>4</th>\n",
       "      <td>-0.124173</td>\n",
       "      <td>-1.421031</td>\n",
       "      <td>1</td>\n",
       "      <td>0</td>\n",
       "      <td>0</td>\n",
       "      <td>0</td>\n",
       "      <td>0</td>\n",
       "      <td>0</td>\n",
       "      <td>0</td>\n",
       "      <td>0</td>\n",
       "      <td>...</td>\n",
       "      <td>0</td>\n",
       "      <td>1</td>\n",
       "      <td>0</td>\n",
       "      <td>0</td>\n",
       "      <td>0</td>\n",
       "      <td>0</td>\n",
       "      <td>0</td>\n",
       "      <td>0</td>\n",
       "      <td>1</td>\n",
       "      <td>0</td>\n",
       "    </tr>\n",
       "    <tr>\n",
       "      <th>...</th>\n",
       "      <td>...</td>\n",
       "      <td>...</td>\n",
       "      <td>...</td>\n",
       "      <td>...</td>\n",
       "      <td>...</td>\n",
       "      <td>...</td>\n",
       "      <td>...</td>\n",
       "      <td>...</td>\n",
       "      <td>...</td>\n",
       "      <td>...</td>\n",
       "      <td>...</td>\n",
       "      <td>...</td>\n",
       "      <td>...</td>\n",
       "      <td>...</td>\n",
       "      <td>...</td>\n",
       "      <td>...</td>\n",
       "      <td>...</td>\n",
       "      <td>...</td>\n",
       "      <td>...</td>\n",
       "      <td>...</td>\n",
       "      <td>...</td>\n",
       "    </tr>\n",
       "    <tr>\n",
       "      <th>2703</th>\n",
       "      <td>-0.531237</td>\n",
       "      <td>-0.998946</td>\n",
       "      <td>0</td>\n",
       "      <td>1</td>\n",
       "      <td>0</td>\n",
       "      <td>0</td>\n",
       "      <td>0</td>\n",
       "      <td>0</td>\n",
       "      <td>0</td>\n",
       "      <td>0</td>\n",
       "      <td>...</td>\n",
       "      <td>0</td>\n",
       "      <td>0</td>\n",
       "      <td>0</td>\n",
       "      <td>0</td>\n",
       "      <td>0</td>\n",
       "      <td>0</td>\n",
       "      <td>0</td>\n",
       "      <td>0</td>\n",
       "      <td>1</td>\n",
       "      <td>0</td>\n",
       "    </tr>\n",
       "    <tr>\n",
       "      <th>2704</th>\n",
       "      <td>-0.327705</td>\n",
       "      <td>0.139483</td>\n",
       "      <td>0</td>\n",
       "      <td>1</td>\n",
       "      <td>0</td>\n",
       "      <td>0</td>\n",
       "      <td>0</td>\n",
       "      <td>0</td>\n",
       "      <td>0</td>\n",
       "      <td>0</td>\n",
       "      <td>...</td>\n",
       "      <td>0</td>\n",
       "      <td>0</td>\n",
       "      <td>0</td>\n",
       "      <td>0</td>\n",
       "      <td>0</td>\n",
       "      <td>0</td>\n",
       "      <td>0</td>\n",
       "      <td>0</td>\n",
       "      <td>1</td>\n",
       "      <td>0</td>\n",
       "    </tr>\n",
       "    <tr>\n",
       "      <th>2705</th>\n",
       "      <td>-1.040068</td>\n",
       "      <td>1.633519</td>\n",
       "      <td>0</td>\n",
       "      <td>1</td>\n",
       "      <td>0</td>\n",
       "      <td>0</td>\n",
       "      <td>0</td>\n",
       "      <td>0</td>\n",
       "      <td>0</td>\n",
       "      <td>0</td>\n",
       "      <td>...</td>\n",
       "      <td>0</td>\n",
       "      <td>0</td>\n",
       "      <td>0</td>\n",
       "      <td>0</td>\n",
       "      <td>0</td>\n",
       "      <td>0</td>\n",
       "      <td>1</td>\n",
       "      <td>0</td>\n",
       "      <td>1</td>\n",
       "      <td>0</td>\n",
       "    </tr>\n",
       "    <tr>\n",
       "      <th>2706</th>\n",
       "      <td>-0.734769</td>\n",
       "      <td>-0.168358</td>\n",
       "      <td>1</td>\n",
       "      <td>0</td>\n",
       "      <td>0</td>\n",
       "      <td>0</td>\n",
       "      <td>0</td>\n",
       "      <td>0</td>\n",
       "      <td>0</td>\n",
       "      <td>0</td>\n",
       "      <td>...</td>\n",
       "      <td>0</td>\n",
       "      <td>1</td>\n",
       "      <td>0</td>\n",
       "      <td>0</td>\n",
       "      <td>0</td>\n",
       "      <td>0</td>\n",
       "      <td>0</td>\n",
       "      <td>0</td>\n",
       "      <td>1</td>\n",
       "      <td>0</td>\n",
       "    </tr>\n",
       "    <tr>\n",
       "      <th>2707</th>\n",
       "      <td>0.588189</td>\n",
       "      <td>0.876671</td>\n",
       "      <td>0</td>\n",
       "      <td>1</td>\n",
       "      <td>0</td>\n",
       "      <td>0</td>\n",
       "      <td>0</td>\n",
       "      <td>0</td>\n",
       "      <td>0</td>\n",
       "      <td>0</td>\n",
       "      <td>...</td>\n",
       "      <td>0</td>\n",
       "      <td>0</td>\n",
       "      <td>0</td>\n",
       "      <td>0</td>\n",
       "      <td>0</td>\n",
       "      <td>0</td>\n",
       "      <td>0</td>\n",
       "      <td>0</td>\n",
       "      <td>1</td>\n",
       "      <td>0</td>\n",
       "    </tr>\n",
       "  </tbody>\n",
       "</table>\n",
       "<p>2708 rows × 24 columns</p>\n",
       "</div>"
      ],
      "text/plain": [
       "      povrsina  udaljenost_od_centra  grejanje_TA peć  \\\n",
       "0    -0.683886             -0.303323                0   \n",
       "1     2.165563             -0.090072                0   \n",
       "2     0.715397             -1.019596                0   \n",
       "3     1.936590             -0.560431                0   \n",
       "4    -0.124173             -1.421031                1   \n",
       "...        ...                   ...              ...   \n",
       "2703 -0.531237             -0.998946                0   \n",
       "2704 -0.327705              0.139483                0   \n",
       "2705 -1.040068              1.633519                0   \n",
       "2706 -0.734769             -0.168358                1   \n",
       "2707  0.588189              0.876671                0   \n",
       "\n",
       "      grejanje_centralno grejanje  grejanje_etažno grejanje  \\\n",
       "0                               0                         0   \n",
       "1                               0                         1   \n",
       "2                               1                         0   \n",
       "3                               0                         0   \n",
       "4                               0                         0   \n",
       "...                           ...                       ...   \n",
       "2703                            1                         0   \n",
       "2704                            1                         0   \n",
       "2705                            1                         0   \n",
       "2706                            0                         0   \n",
       "2707                            1                         0   \n",
       "\n",
       "      grejanje_grejanje na gas  grejanje_grejanje na struju  \\\n",
       "0                            0                            1   \n",
       "1                            0                            0   \n",
       "2                            0                            0   \n",
       "3                            0                            0   \n",
       "4                            0                            0   \n",
       "...                        ...                          ...   \n",
       "2703                         0                            0   \n",
       "2704                         0                            0   \n",
       "2705                         0                            0   \n",
       "2706                         0                            0   \n",
       "2707                         0                            0   \n",
       "\n",
       "      grejanje_kaljeva peć  grejanje_norveški radijatori  \\\n",
       "0                        0                             0   \n",
       "1                        0                             0   \n",
       "2                        0                             0   \n",
       "3                        0                             0   \n",
       "4                        0                             0   \n",
       "...                    ...                           ...   \n",
       "2703                     0                             0   \n",
       "2704                     0                             0   \n",
       "2705                     0                             0   \n",
       "2706                     0                             0   \n",
       "2707                     0                             0   \n",
       "\n",
       "      grejanje_podno grejanje  ...  spratnost_4  spratnost_5  spratnost_6  \\\n",
       "0                           0  ...            0            0            0   \n",
       "1                           0  ...            0            0            0   \n",
       "2                           0  ...            0            0            0   \n",
       "3                           1  ...            0            0            0   \n",
       "4                           0  ...            0            1            0   \n",
       "...                       ...  ...          ...          ...          ...   \n",
       "2703                        0  ...            0            0            0   \n",
       "2704                        0  ...            0            0            0   \n",
       "2705                        0  ...            0            0            0   \n",
       "2706                        0  ...            0            1            0   \n",
       "2707                        0  ...            0            0            0   \n",
       "\n",
       "      spratnost_7  spratnost_>7  spratnost_potkrovlje  spratnost_prizemlje  \\\n",
       "0               0             0                     0                    1   \n",
       "1               0             0                     0                    0   \n",
       "2               0             0                     0                    0   \n",
       "3               0             0                     0                    0   \n",
       "4               0             0                     0                    0   \n",
       "...           ...           ...                   ...                  ...   \n",
       "2703            0             0                     0                    0   \n",
       "2704            0             0                     0                    0   \n",
       "2705            0             0                     0                    1   \n",
       "2706            0             0                     0                    0   \n",
       "2707            0             0                     0                    0   \n",
       "\n",
       "      spratnost_suteren  infrastruktura_ima  infrastruktura_nema  \n",
       "0                     0                   0                    1  \n",
       "1                     0                   1                    0  \n",
       "2                     0                   1                    0  \n",
       "3                     0                   1                    0  \n",
       "4                     0                   1                    0  \n",
       "...                 ...                 ...                  ...  \n",
       "2703                  0                   1                    0  \n",
       "2704                  0                   1                    0  \n",
       "2705                  0                   1                    0  \n",
       "2706                  0                   1                    0  \n",
       "2707                  0                   1                    0  \n",
       "\n",
       "[2708 rows x 24 columns]"
      ]
     },
     "execution_count": 9,
     "metadata": {},
     "output_type": "execute_result"
    }
   ],
   "source": [
    "features"
   ]
  },
  {
   "cell_type": "markdown",
   "metadata": {},
   "source": [
    "# Predikcija - euklidska distanca"
   ]
  },
  {
   "cell_type": "markdown",
   "metadata": {},
   "source": [
    "### Treniranje modela koriscenjem hot-encoded odlika - los rezultat - manje bitne odlike imaju veliki uticaj"
   ]
  },
  {
   "cell_type": "code",
   "execution_count": 10,
   "metadata": {},
   "outputs": [],
   "source": [
    "xtrain, xtest, ytrain, ytest = train_test_split(features, df['cena'], test_size=0.30, random_state=421)"
   ]
  },
  {
   "cell_type": "code",
   "execution_count": 11,
   "metadata": {},
   "outputs": [],
   "source": [
    "def plot_error_against_k(_knn=KNeighborsClassifier, _metric='euclidean'):\n",
    "    error_rate = []\n",
    "    for i in range(1,20):\n",
    "        knn = _knn(n_neighbors=i, metric=_metric)\n",
    "        knn.fit(xtrain,ytrain)\n",
    "        pred_i = knn.predict(xtest)\n",
    "        error_rate.append(np.mean(pred_i != ytest))\n",
    "\n",
    "    plt.figure(figsize=(10,6))\n",
    "    plt.plot(range(1, 20),error_rate,color='blue', linestyle='dashed', marker='o',\n",
    "             markerfacecolor='red', markersize=10)\n",
    "    plt.title('Error Rate vs. K Value')\n",
    "    plt.xlabel('K')\n",
    "    plt.ylabel('Error Rate')"
   ]
  },
  {
   "cell_type": "code",
   "execution_count": 12,
   "metadata": {},
   "outputs": [],
   "source": [
    "from sklearn.metrics import classification_report,confusion_matrix\n",
    "def classify_and_report(_knn=KNeighborsClassifier,_metric='euclidean', n_neigh = 1):\n",
    "    knn = _knn(n_neighbors=n_neigh, metric=_metric)\n",
    "    knn.fit(xtrain,ytrain)\n",
    "    pred = knn.predict(xtest)\n",
    "    print(confusion_matrix(ytest,pred))\n",
    "    print(classification_report(ytest,pred))"
   ]
  },
  {
   "cell_type": "code",
   "execution_count": null,
   "metadata": {},
   "outputs": [],
   "source": [
    "plot_error_against_k()"
   ]
  },
  {
   "cell_type": "code",
   "execution_count": null,
   "metadata": {},
   "outputs": [],
   "source": [
    "classify_and_report(n_neigh=1)"
   ]
  },
  {
   "cell_type": "markdown",
   "metadata": {},
   "source": [
    "### Treniranje modela bez kategorickih odlika - bolji rezultat"
   ]
  },
  {
   "cell_type": "code",
   "execution_count": null,
   "metadata": {},
   "outputs": [],
   "source": [
    "numeric_features = features[['povrsina', 'udaljenost_od_centra']]"
   ]
  },
  {
   "cell_type": "markdown",
   "metadata": {},
   "source": [
    "#### Podela skupa po povrsini i udaljenosti od centra"
   ]
  },
  {
   "cell_type": "code",
   "execution_count": null,
   "metadata": {},
   "outputs": [],
   "source": [
    "temp = numeric_features.copy()\n",
    "temp['cena'] = df['cena']\n",
    "sns.set_style('whitegrid')\n",
    "sns.FacetGrid(temp, hue='cena', size=5).map(plt.scatter, 'povrsina', 'udaljenost_od_centra').add_legend()\n",
    "plt.show()"
   ]
  },
  {
   "cell_type": "code",
   "execution_count": null,
   "metadata": {},
   "outputs": [],
   "source": [
    "xtrain, xtest, ytrain, ytest = train_test_split(numeric_features, df['cena'], test_size=0.30, random_state=421)"
   ]
  },
  {
   "cell_type": "code",
   "execution_count": null,
   "metadata": {},
   "outputs": [],
   "source": [
    "plot_error_against_k()"
   ]
  },
  {
   "cell_type": "markdown",
   "metadata": {},
   "source": [
    "## Rezultat"
   ]
  },
  {
   "cell_type": "code",
   "execution_count": null,
   "metadata": {},
   "outputs": [],
   "source": [
    "classify_and_report(n_neigh=3)"
   ]
  },
  {
   "cell_type": "markdown",
   "metadata": {},
   "source": [
    "# Predikcija - manhattan distanca"
   ]
  },
  {
   "cell_type": "code",
   "execution_count": null,
   "metadata": {},
   "outputs": [],
   "source": [
    "plot_error_against_k(_metric='manhattan')"
   ]
  },
  {
   "cell_type": "markdown",
   "metadata": {},
   "source": [
    "## Rezultat"
   ]
  },
  {
   "cell_type": "code",
   "execution_count": null,
   "metadata": {},
   "outputs": [],
   "source": [
    "classify_and_report(n_neigh=6, _metric='manhattan')"
   ]
  },
  {
   "cell_type": "markdown",
   "metadata": {},
   "source": [
    "## Baseline - izlaz je najfrekventnija klasa"
   ]
  },
  {
   "cell_type": "code",
   "execution_count": null,
   "metadata": {},
   "outputs": [],
   "source": [
    "ybaseline = ['100-150'] * len(ytest)\n",
    "baseline_most_freq_class = accuracy_score(ytest, ybaseline)\n",
    "baseline_most_freq_class"
   ]
  },
  {
   "cell_type": "markdown",
   "metadata": {},
   "source": [
    "## Baseline - izlaz je random klasa"
   ]
  },
  {
   "cell_type": "code",
   "execution_count": null,
   "metadata": {},
   "outputs": [],
   "source": [
    "knn = KNeighborsClassifier(n_neighbors=3, metric='manhattan')\n",
    "knn.fit(xtrain,ytrain)\n",
    "ypred = knn.predict(xtest)\n",
    "np.random.shuffle(ypred)\n",
    "\n",
    "baseline_random = accuracy_score(ytest, ypred)\n",
    "baseline_random"
   ]
  },
  {
   "cell_type": "markdown",
   "metadata": {},
   "source": [
    "# Moja implementacija algoritma"
   ]
  },
  {
   "cell_type": "code",
   "execution_count": null,
   "metadata": {},
   "outputs": [],
   "source": [
    "def euclidean_distance(vector1,vector2):\n",
    "    return math.sqrt(sum((val1 - val2)**2 for val1, val2 in zip(vector1,vector2)))"
   ]
  },
  {
   "cell_type": "code",
   "execution_count": null,
   "metadata": {},
   "outputs": [],
   "source": [
    "def manhattan(vector1, vector2):\n",
    "    return sum(abs(val1-val2) for val1, val2 in zip(vector1,vector2))"
   ]
  },
  {
   "cell_type": "code",
   "execution_count": null,
   "metadata": {},
   "outputs": [],
   "source": [
    "from collections import Counter\n",
    "\n",
    "class MyKNN():\n",
    "    def __init__(self, k=3, distance_metric=euclidean_distance):\n",
    "        self.k = k\n",
    "        self.distance_metric = distance_metric\n",
    "\n",
    "    def _vote(self, neighbor_labels):\n",
    "        counter = Counter(neighbor_labels)\n",
    "        return counter.most_common(1)[0][0]\n",
    "\n",
    "    def predict(self, xtest, xtrain, ytrain):\n",
    "        ypred = [''] * xtest.shape[0]\n",
    "        for i, test_sample in enumerate(xtest):\n",
    "            idx = np.argsort([self.distance_metric(test_sample, x) for x in xtrain])[:self.k]\n",
    "            k_nearest_neighbors = np.array([ytrain[i] for i in idx])\n",
    "            ypred[i] = self._vote(k_nearest_neighbors)\n",
    "        return ypred"
   ]
  },
  {
   "cell_type": "markdown",
   "metadata": {},
   "source": [
    "## Euklidska distanca"
   ]
  },
  {
   "cell_type": "code",
   "execution_count": null,
   "metadata": {},
   "outputs": [],
   "source": [
    "myknn = MyKNN(k=3)\n",
    "ypred = myknn.predict(np.asarray(xtest),np.asarray(xtrain),np.asarray(ytrain))"
   ]
  },
  {
   "cell_type": "markdown",
   "metadata": {},
   "source": [
    "## Rezultat"
   ]
  },
  {
   "cell_type": "code",
   "execution_count": null,
   "metadata": {},
   "outputs": [],
   "source": [
    "print(confusion_matrix(ytest,ypred))\n",
    "print(classification_report(ytest,ypred))"
   ]
  },
  {
   "cell_type": "markdown",
   "metadata": {},
   "source": [
    "## Manhattan distanca"
   ]
  },
  {
   "cell_type": "code",
   "execution_count": null,
   "metadata": {},
   "outputs": [],
   "source": [
    "myknn = MyKNN(k=6, distance_metric=manhattan)\n",
    "ypred = myknn.predict(np.asarray(xtest),np.asarray(xtrain),np.asarray(ytrain))"
   ]
  },
  {
   "cell_type": "markdown",
   "metadata": {},
   "source": [
    "## Rezultat"
   ]
  },
  {
   "cell_type": "code",
   "execution_count": null,
   "metadata": {},
   "outputs": [],
   "source": [
    "print(confusion_matrix(ytest,ypred))\n",
    "print(classification_report(ytest,ypred))"
   ]
  }
 ],
 "metadata": {
  "kernelspec": {
   "display_name": "Python 3",
   "language": "python",
   "name": "python3"
  },
  "language_info": {
   "codemirror_mode": {
    "name": "ipython",
    "version": 3
   },
   "file_extension": ".py",
   "mimetype": "text/x-python",
   "name": "python",
   "nbconvert_exporter": "python",
   "pygments_lexer": "ipython3",
   "version": "3.6.9"
  }
 },
 "nbformat": 4,
 "nbformat_minor": 4
}
