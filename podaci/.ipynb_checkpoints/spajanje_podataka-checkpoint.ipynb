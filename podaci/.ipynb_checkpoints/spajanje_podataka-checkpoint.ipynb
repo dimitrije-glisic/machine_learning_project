{
 "cells": [
  {
   "cell_type": "code",
   "execution_count": 1,
   "metadata": {},
   "outputs": [],
   "source": [
    "import pandas as pd"
   ]
  },
  {
   "cell_type": "code",
   "execution_count": 2,
   "metadata": {},
   "outputs": [],
   "source": [
    "nekretnina_template_30nov = {\n",
    "            'usluga':'',\n",
    "            'tip': '',\n",
    "            'cena' : '',\n",
    "            'grad': '',\n",
    "            'sira_lokacija':'',\n",
    "            'uza_lokacija':'',\n",
    "            'adresa': '',\n",
    "            'povrsina': '',\n",
    "            'plac':'',\n",
    "            'broj_soba':'',\n",
    "            'uknjizenost':'',\n",
    "            'grejanje':'',\n",
    "            'broj_etaza':'',\n",
    "            'stanje':'',\n",
    "            'godina_izgradnje':'',\n",
    "            'spratnost':'',\n",
    "            'lift':'',\n",
    "            'infrastruktura':'',\n",
    "            'parking':'',\n",
    "            'garaza':'',\n",
    "            'unutrasnje_prostorije':'',\n",
    "            'namestenost':'',\n",
    "            'opremljenost':'',\n",
    "            'useljivo':'',\n",
    "            'orijentacija_nekretnine':'',\n",
    "            'tip_objekta':'',\n",
    "            'tip_stana': '',\n",
    "            'tip_kuce':'',\n",
    "            'autobuske_linije':'',\n",
    "            'sifra_oglasa':'',\n",
    "            'opis':'',\n",
    "            'link':''\n",
    "        }"
   ]
  },
  {
   "cell_type": "code",
   "execution_count": 3,
   "metadata": {},
   "outputs": [],
   "source": [
    "nekretnine_30nov = pd.read_csv('30nov5_nekretnine.csv', names=nekretnina_template_30nov.keys())"
   ]
  },
  {
   "cell_type": "code",
   "execution_count": 4,
   "metadata": {},
   "outputs": [
    {
     "data": {
      "text/plain": [
       "(22063, 32)"
      ]
     },
     "execution_count": 4,
     "metadata": {},
     "output_type": "execute_result"
    }
   ],
   "source": [
    "nekretnine_30nov.shape"
   ]
  },
  {
   "cell_type": "code",
   "execution_count": 5,
   "metadata": {},
   "outputs": [
    {
     "data": {
      "text/plain": [
       "11635"
      ]
     },
     "execution_count": 5,
     "metadata": {},
     "output_type": "execute_result"
    }
   ],
   "source": [
    "#generisani losi redovi\n",
    "nekretnine_30nov.link.isnull().sum()"
   ]
  },
  {
   "cell_type": "code",
   "execution_count": 6,
   "metadata": {},
   "outputs": [],
   "source": [
    "nekretnine_30nov = nekretnine_30nov[nekretnine_30nov.link.notna()]"
   ]
  },
  {
   "cell_type": "code",
   "execution_count": 7,
   "metadata": {},
   "outputs": [
    {
     "data": {
      "text/plain": [
       "(10428, 32)"
      ]
     },
     "execution_count": 7,
     "metadata": {},
     "output_type": "execute_result"
    }
   ],
   "source": [
    "nekretnine_30nov.shape"
   ]
  },
  {
   "cell_type": "code",
   "execution_count": 8,
   "metadata": {},
   "outputs": [],
   "source": [
    "nekretnina_template_final = {\n",
    "            'usluga': '',\n",
    "            'tip': '',\n",
    "            'cena' : '',\n",
    "            'depozit': '',\n",
    "            'uslovi_za_stanare': '',\n",
    "            'grad': '',\n",
    "            'sira_lokacija':'',\n",
    "            'uza_lokacija':'',\n",
    "            'adresa': '',\n",
    "            'povrsina': '',\n",
    "            'plac':'',\n",
    "            'broj_soba':'',\n",
    "            'uknjizenost':'',\n",
    "            'grejanje':'',\n",
    "            'broj_etaza':'',\n",
    "            'stanje':'',\n",
    "            'godina_izgradnje':'',\n",
    "            'spratnost':'',\n",
    "            'lift':'',\n",
    "            'infrastruktura':'',\n",
    "            'parking':'',\n",
    "            'garaza':'',\n",
    "            'unutrasnje_prostorije':'',\n",
    "            'namestenost':'',\n",
    "            'opremljenost':'',\n",
    "            'useljivo':'',\n",
    "            'orijentacija_nekretnine':'',\n",
    "            'tip_objekta':'',\n",
    "            'tip_stana': '',\n",
    "            'tip_kuce':'',\n",
    "            'autobuske_linije':'',\n",
    "            'tramvajske_linije':'',\n",
    "            'trolejbuske_linije':'',\n",
    "            'sifra_oglasa':'',\n",
    "            'opis': '',\n",
    "            'link':''\n",
    "        }"
   ]
  },
  {
   "cell_type": "markdown",
   "metadata": {},
   "source": [
    "## Spoj sa jos jednim vecim skupom podataka"
   ]
  },
  {
   "cell_type": "code",
   "execution_count": 9,
   "metadata": {},
   "outputs": [
    {
     "name": "stdout",
     "output_type": "stream",
     "text": [
      "nekretnine_3dec3_12k shape: (24024, 36)\n"
     ]
    }
   ],
   "source": [
    "nekretnine_3dec3_12k = pd.read_csv('./3dec3_nekretnine.csv', names=nekretnina_template_final.keys())\n",
    "print(f'nekretnine_3dec3_12k shape: {nekretnine_3dec3_12k.shape}')"
   ]
  },
  {
   "cell_type": "code",
   "execution_count": 10,
   "metadata": {},
   "outputs": [
    {
     "name": "stdout",
     "output_type": "stream",
     "text": [
      "nekretnine_3dec3_12k shape: (12568, 36)\n"
     ]
    }
   ],
   "source": [
    "\n",
    "#remove bad rows - don't know why generated???\n",
    "nekretnine_3dec3_12k = nekretnine_3dec3_12k[nekretnine_3dec3_12k.link.notna()]\n",
    "print(f'nekretnine_3dec3_12k shape: {nekretnine_3dec3_12k.shape}')\n",
    "#remove columns: 'depozit', 'tramvajske_linije', 'trolejbuske linije'\n",
    "nekretnine_3dec3_12k = nekretnine_3dec3_12k.drop(['depozit', 'tramvajske_linije', 'trolejbuske_linije'], axis=1)"
   ]
  },
  {
   "cell_type": "code",
   "execution_count": 11,
   "metadata": {},
   "outputs": [
    {
     "data": {
      "text/plain": [
       "26"
      ]
     },
     "execution_count": 11,
     "metadata": {},
     "output_type": "execute_result"
    }
   ],
   "source": [
    "nekretnine_3dec3_12k.cena.isnull().sum()"
   ]
  },
  {
   "cell_type": "code",
   "execution_count": 12,
   "metadata": {},
   "outputs": [],
   "source": [
    "nekretnine_3dec3_12k = nekretnine_3dec3_12k.dropna(subset=['cena'])"
   ]
  },
  {
   "cell_type": "code",
   "execution_count": 13,
   "metadata": {},
   "outputs": [],
   "source": [
    "set_12k = set(nekretnine_3dec3_12k.link)\n",
    "set_10k = set(nekretnine_30nov.link)"
   ]
  },
  {
   "cell_type": "code",
   "execution_count": 14,
   "metadata": {},
   "outputs": [
    {
     "name": "stdout",
     "output_type": "stream",
     "text": [
      "diff_12k_10k len: 4575\n"
     ]
    }
   ],
   "source": [
    "diff_12k_10k = set_12k.difference(set_10k)\n",
    "print(f'diff_12k_10k len: {len(diff_12k_10k)}')"
   ]
  },
  {
   "cell_type": "code",
   "execution_count": 15,
   "metadata": {},
   "outputs": [
    {
     "name": "stdout",
     "output_type": "stream",
     "text": [
      "nekretnine_12k_diff_from_10k shape: (4575, 33)\n"
     ]
    }
   ],
   "source": [
    "#konkateniraj 10K skup i razliku(4K) u odnosu na 12K skup  ~ onda imamo 14.5K zapisa\n",
    "nekretnine_12k_diff_from_10k = nekretnine_3dec3_12k[nekretnine_3dec3_12k.link.isin(diff_12k_10k)]\n",
    "nekretnine_12k_diff_from_10k\n",
    "\n",
    "print(f'nekretnine_12k_diff_from_10k shape: {nekretnine_12k_diff_from_10k.shape}')"
   ]
  },
  {
   "cell_type": "code",
   "execution_count": 16,
   "metadata": {},
   "outputs": [
    {
     "name": "stdout",
     "output_type": "stream",
     "text": [
      "(15003, 33)\n"
     ]
    }
   ],
   "source": [
    "df = pd.concat([nekretnine_30nov, nekretnine_12k_diff_from_10k])\n",
    "print(df.shape)"
   ]
  },
  {
   "cell_type": "markdown",
   "metadata": {},
   "source": [
    "### Formiran skup podataka o prodaji od 15K zapisa"
   ]
  },
  {
   "cell_type": "code",
   "execution_count": 17,
   "metadata": {},
   "outputs": [
    {
     "name": "stdout",
     "output_type": "stream",
     "text": [
      "(14899, 33)\n"
     ]
    }
   ],
   "source": [
    "df = df[df.usluga != 'izdavanje']\n",
    "print(df.shape)"
   ]
  },
  {
   "cell_type": "markdown",
   "metadata": {},
   "source": [
    "### Ucitavanje 3.5K zapisa o iznajmljivanju"
   ]
  },
  {
   "cell_type": "markdown",
   "metadata": {},
   "source": [
    "## Nadji diff od velikog skupa podataka"
   ]
  },
  {
   "cell_type": "code",
   "execution_count": 18,
   "metadata": {},
   "outputs": [],
   "source": [
    "df_2dec4_10k = pd.read_csv('./2dec4_nekretnine.csv',lineterminator='\\n', names=nekretnina_template_final)"
   ]
  },
  {
   "cell_type": "code",
   "execution_count": 19,
   "metadata": {},
   "outputs": [
    {
     "data": {
      "text/plain": [
       "(9994, 36)"
      ]
     },
     "execution_count": 19,
     "metadata": {},
     "output_type": "execute_result"
    }
   ],
   "source": [
    "df_2dec4_10k.shape"
   ]
  },
  {
   "cell_type": "code",
   "execution_count": 20,
   "metadata": {},
   "outputs": [
    {
     "data": {
      "text/plain": [
       "2"
      ]
     },
     "execution_count": 20,
     "metadata": {},
     "output_type": "execute_result"
    }
   ],
   "source": [
    "df_2dec4_10k.cena.isnull().sum()"
   ]
  },
  {
   "cell_type": "code",
   "execution_count": 21,
   "metadata": {},
   "outputs": [],
   "source": [
    "df_2dec4_10k = df_2dec4_10k.dropna(subset=['cena'])"
   ]
  },
  {
   "cell_type": "code",
   "execution_count": 22,
   "metadata": {},
   "outputs": [
    {
     "data": {
      "text/plain": [
       "466"
      ]
     },
     "execution_count": 22,
     "metadata": {},
     "output_type": "execute_result"
    }
   ],
   "source": [
    "set_2dec4_10k = set(df_2dec4_10k.link)\n",
    "set_df_18k = set(df.link)\n",
    "set_diff = set_2dec4_10k.difference(set_df_18k)\n",
    "len(set_diff)"
   ]
  },
  {
   "cell_type": "code",
   "execution_count": 23,
   "metadata": {},
   "outputs": [
    {
     "name": "stdout",
     "output_type": "stream",
     "text": [
      "(433, 36)\n"
     ]
    },
    {
     "name": "stderr",
     "output_type": "stream",
     "text": [
      "/home/upflo/fakultet/psz/venv/lib/python3.6/site-packages/ipykernel_launcher.py:7: SettingWithCopyWarning: \n",
      "A value is trying to be set on a copy of a slice from a DataFrame.\n",
      "Try using .loc[row_indexer,col_indexer] = value instead\n",
      "\n",
      "See the caveats in the documentation: https://pandas.pydata.org/pandas-docs/stable/user_guide/indexing.html#returning-a-view-versus-a-copy\n",
      "  import sys\n"
     ]
    }
   ],
   "source": [
    "to_append_445rows = df_2dec4_10k[df_2dec4_10k.link.isin(set_diff)]\n",
    "to_append_445rows[to_append_445rows.usluga=='izdavanje'].shape\n",
    "\n",
    "# print(nekretnine_3dec3_12k['cena'].str.contains('€').sum())\n",
    "\n",
    "\n",
    "to_append_445rows['cena'] = to_append_445rows['cena'].map(lambda cena: None if '€' not in str(cena) else cena)\n",
    "to_append_445rows = to_append_445rows[to_append_445rows.cena.notna()]\n",
    "\n",
    "print(to_append_445rows.shape)"
   ]
  },
  {
   "cell_type": "markdown",
   "metadata": {},
   "source": [
    "### Append 445 rows"
   ]
  },
  {
   "cell_type": "code",
   "execution_count": 24,
   "metadata": {},
   "outputs": [
    {
     "data": {
      "text/plain": [
       "Index(['usluga', 'tip', 'cena', 'depozit', 'uslovi_za_stanare', 'grad',\n",
       "       'sira_lokacija', 'uza_lokacija', 'adresa', 'povrsina', 'plac',\n",
       "       'broj_soba', 'uknjizenost', 'grejanje', 'broj_etaza', 'stanje',\n",
       "       'godina_izgradnje', 'spratnost', 'lift', 'infrastruktura', 'parking',\n",
       "       'garaza', 'unutrasnje_prostorije', 'namestenost', 'opremljenost',\n",
       "       'useljivo', 'orijentacija_nekretnine', 'tip_objekta', 'tip_stana',\n",
       "       'tip_kuce', 'autobuske_linije', 'tramvajske_linije',\n",
       "       'trolejbuske_linije', 'sifra_oglasa', 'opis', 'link'],\n",
       "      dtype='object')"
      ]
     },
     "execution_count": 24,
     "metadata": {},
     "output_type": "execute_result"
    }
   ],
   "source": [
    "to_append_445rows.columns"
   ]
  },
  {
   "cell_type": "code",
   "execution_count": 25,
   "metadata": {},
   "outputs": [],
   "source": [
    "to_append_445rows = to_append_445rows.drop(['depozit', 'tramvajske_linije', 'trolejbuske_linije'], axis=1)"
   ]
  },
  {
   "cell_type": "code",
   "execution_count": 26,
   "metadata": {},
   "outputs": [
    {
     "name": "stdout",
     "output_type": "stream",
     "text": [
      "(15332, 33)\n"
     ]
    }
   ],
   "source": [
    "df = pd.concat([df,to_append_445rows])\n",
    "print(df.shape)"
   ]
  },
  {
   "cell_type": "code",
   "execution_count": 27,
   "metadata": {},
   "outputs": [
    {
     "data": {
      "text/plain": [
       "(15332, 33)"
      ]
     },
     "execution_count": 27,
     "metadata": {},
     "output_type": "execute_result"
    }
   ],
   "source": [
    "df.shape"
   ]
  },
  {
   "cell_type": "code",
   "execution_count": 28,
   "metadata": {},
   "outputs": [],
   "source": [
    "df.drop('uslovi_za_stanare', axis=1, inplace=True)\n",
    "df.drop('autobuske_linije', axis=1, inplace=True)"
   ]
  },
  {
   "cell_type": "code",
   "execution_count": 29,
   "metadata": {},
   "outputs": [
    {
     "data": {
      "text/plain": [
       "(15332, 31)"
      ]
     },
     "execution_count": 29,
     "metadata": {},
     "output_type": "execute_result"
    }
   ],
   "source": [
    "df.shape"
   ]
  },
  {
   "cell_type": "markdown",
   "metadata": {},
   "source": [
    "## Dodaj podatke o izdavanju"
   ]
  },
  {
   "cell_type": "code",
   "execution_count": 30,
   "metadata": {},
   "outputs": [],
   "source": [
    "izdavanje_13feb = pd.read_csv('13feb22_1_izdavanje.csv', names=nekretnina_template_final.keys())"
   ]
  },
  {
   "cell_type": "code",
   "execution_count": 31,
   "metadata": {},
   "outputs": [],
   "source": [
    "izdavanje_12feb1 = pd.read_csv('12feb22_1_izdavanje.csv', names=nekretnina_template_final.keys())"
   ]
  },
  {
   "cell_type": "code",
   "execution_count": 32,
   "metadata": {},
   "outputs": [],
   "source": [
    "izdavanje_12feb2 = pd.read_csv('12feb22_2_izdavanje.csv', names=nekretnina_template_final.keys())"
   ]
  },
  {
   "cell_type": "code",
   "execution_count": 33,
   "metadata": {},
   "outputs": [
    {
     "data": {
      "text/plain": [
       "(12694, 36)"
      ]
     },
     "execution_count": 33,
     "metadata": {},
     "output_type": "execute_result"
    }
   ],
   "source": [
    "izdavanje = pd.concat([izdavanje_13feb, izdavanje_12feb1, izdavanje_12feb2])\n",
    "izdavanje.shape"
   ]
  },
  {
   "cell_type": "code",
   "execution_count": 34,
   "metadata": {},
   "outputs": [
    {
     "data": {
      "text/plain": [
       "(4924, 36)"
      ]
     },
     "execution_count": 34,
     "metadata": {},
     "output_type": "execute_result"
    }
   ],
   "source": [
    "izdavanje.drop_duplicates(subset=['link'], inplace=True)\n",
    "izdavanje.shape"
   ]
  },
  {
   "cell_type": "code",
   "execution_count": 35,
   "metadata": {},
   "outputs": [
    {
     "data": {
      "text/plain": [
       "(15332, 31)"
      ]
     },
     "execution_count": 35,
     "metadata": {},
     "output_type": "execute_result"
    }
   ],
   "source": [
    "df.shape"
   ]
  },
  {
   "cell_type": "code",
   "execution_count": 36,
   "metadata": {},
   "outputs": [],
   "source": [
    "#align columns before concat\n",
    "izdavanje_kolone = set(izdavanje.columns)\n",
    "df_kolone = set(df.columns)\n",
    "kolone_diff = izdavanje_kolone.difference(df_kolone)\n",
    "izdavanje = izdavanje.drop(columns=kolone_diff)"
   ]
  },
  {
   "cell_type": "code",
   "execution_count": 37,
   "metadata": {},
   "outputs": [],
   "source": [
    "df = pd.concat([df,izdavanje])"
   ]
  },
  {
   "cell_type": "code",
   "execution_count": 38,
   "metadata": {},
   "outputs": [
    {
     "name": "stdout",
     "output_type": "stream",
     "text": [
      "<class 'pandas.core.frame.DataFrame'>\n",
      "Int64Index: 20256 entries, 0 to 3252\n",
      "Data columns (total 31 columns):\n",
      " #   Column                   Non-Null Count  Dtype \n",
      "---  ------                   --------------  ----- \n",
      " 0   usluga                   20256 non-null  object\n",
      " 1   tip                      20256 non-null  object\n",
      " 2   cena                     20223 non-null  object\n",
      " 3   grad                     20223 non-null  object\n",
      " 4   sira_lokacija            20217 non-null  object\n",
      " 5   uza_lokacija             20067 non-null  object\n",
      " 6   adresa                   20223 non-null  object\n",
      " 7   povrsina                 20223 non-null  object\n",
      " 8   plac                     4002 non-null   object\n",
      " 9   broj_soba                18431 non-null  object\n",
      " 10  uknjizenost              11220 non-null  object\n",
      " 11  grejanje                 16415 non-null  object\n",
      " 12  broj_etaza               3776 non-null   object\n",
      " 13  stanje                   10615 non-null  object\n",
      " 14  godina_izgradnje         4156 non-null   object\n",
      " 15  spratnost                12436 non-null  object\n",
      " 16  lift                     7136 non-null   object\n",
      " 17  infrastruktura           13632 non-null  object\n",
      " 18  parking                  4249 non-null   object\n",
      " 19  garaza                   4711 non-null   object\n",
      " 20  unutrasnje_prostorije    10277 non-null  object\n",
      " 21  namestenost              11251 non-null  object\n",
      " 22  opremljenost             10978 non-null  object\n",
      " 23  useljivo                 1870 non-null   object\n",
      " 24  orijentacija_nekretnine  377 non-null    object\n",
      " 25  tip_objekta              441 non-null    object\n",
      " 26  tip_stana                114 non-null    object\n",
      " 27  tip_kuce                 1435 non-null   object\n",
      " 28  sifra_oglasa             16765 non-null  object\n",
      " 29  opis                     19429 non-null  object\n",
      " 30  link                     20256 non-null  object\n",
      "dtypes: object(31)\n",
      "memory usage: 4.9+ MB\n"
     ]
    }
   ],
   "source": [
    "df.info()"
   ]
  },
  {
   "cell_type": "code",
   "execution_count": 39,
   "metadata": {},
   "outputs": [
    {
     "name": "stdout",
     "output_type": "stream",
     "text": [
      "<class 'pandas.core.frame.DataFrame'>\n",
      "Int64Index: 20223 entries, 0 to 3209\n",
      "Data columns (total 31 columns):\n",
      " #   Column                   Non-Null Count  Dtype \n",
      "---  ------                   --------------  ----- \n",
      " 0   usluga                   20223 non-null  object\n",
      " 1   tip                      20223 non-null  object\n",
      " 2   cena                     20223 non-null  object\n",
      " 3   grad                     20223 non-null  object\n",
      " 4   sira_lokacija            20217 non-null  object\n",
      " 5   uza_lokacija             20067 non-null  object\n",
      " 6   adresa                   20223 non-null  object\n",
      " 7   povrsina                 20223 non-null  object\n",
      " 8   plac                     4002 non-null   object\n",
      " 9   broj_soba                18431 non-null  object\n",
      " 10  uknjizenost              11220 non-null  object\n",
      " 11  grejanje                 16415 non-null  object\n",
      " 12  broj_etaza               3776 non-null   object\n",
      " 13  stanje                   10615 non-null  object\n",
      " 14  godina_izgradnje         4156 non-null   object\n",
      " 15  spratnost                12436 non-null  object\n",
      " 16  lift                     7136 non-null   object\n",
      " 17  infrastruktura           13632 non-null  object\n",
      " 18  parking                  4249 non-null   object\n",
      " 19  garaza                   4711 non-null   object\n",
      " 20  unutrasnje_prostorije    10277 non-null  object\n",
      " 21  namestenost              11251 non-null  object\n",
      " 22  opremljenost             10978 non-null  object\n",
      " 23  useljivo                 1870 non-null   object\n",
      " 24  orijentacija_nekretnine  377 non-null    object\n",
      " 25  tip_objekta              441 non-null    object\n",
      " 26  tip_stana                114 non-null    object\n",
      " 27  tip_kuce                 1435 non-null   object\n",
      " 28  sifra_oglasa             16765 non-null  object\n",
      " 29  opis                     19429 non-null  object\n",
      " 30  link                     20223 non-null  object\n",
      "dtypes: object(31)\n",
      "memory usage: 4.9+ MB\n"
     ]
    }
   ],
   "source": [
    "df.dropna(subset=['cena'], inplace=True)\n",
    "df.info()"
   ]
  },
  {
   "cell_type": "markdown",
   "metadata": {},
   "source": [
    "## Sacuvaj csv"
   ]
  },
  {
   "cell_type": "code",
   "execution_count": 40,
   "metadata": {},
   "outputs": [],
   "source": [
    "nekretnina_template_output = {\n",
    "            'usluga': '',\n",
    "            'tip': '',\n",
    "            'cena' : '',\n",
    "            'grad': '',\n",
    "            'sira_lokacija':'',\n",
    "            'uza_lokacija':'',\n",
    "            'adresa': '',\n",
    "            'povrsina': '',\n",
    "            'plac':'',\n",
    "            'broj_soba':'',\n",
    "            'uknjizenost':'',\n",
    "            'grejanje':'',\n",
    "            'broj_etaza':'',\n",
    "            'stanje':'',\n",
    "            'godina_izgradnje':'',\n",
    "            'spratnost':'',\n",
    "            'lift':'',\n",
    "            'infrastruktura':'',\n",
    "            'parking':'',\n",
    "            'garaza':'',\n",
    "            'unutrasnje_prostorije':'',\n",
    "            'namestenost':'',\n",
    "            'opremljenost':'',\n",
    "            'useljivo':'',\n",
    "            'orijentacija_nekretnine':'',\n",
    "            'tip_objekta':'',\n",
    "            'tip_stana': '',\n",
    "            'tip_kuce':'',\n",
    "            'sifra_oglasa':'',\n",
    "            'opis': '',\n",
    "            'link':''\n",
    "        }"
   ]
  },
  {
   "cell_type": "code",
   "execution_count": 41,
   "metadata": {},
   "outputs": [],
   "source": [
    "df.to_csv('./data_odbrana', encoding='utf-8', index=False)"
   ]
  },
  {
   "cell_type": "code",
   "execution_count": 42,
   "metadata": {},
   "outputs": [
    {
     "data": {
      "text/plain": [
       "3"
      ]
     },
     "execution_count": 42,
     "metadata": {},
     "output_type": "execute_result"
    }
   ],
   "source": [
    "1 + 2"
   ]
  }
 ],
 "metadata": {
  "kernelspec": {
   "display_name": "Python 3",
   "language": "python",
   "name": "python3"
  },
  "language_info": {
   "codemirror_mode": {
    "name": "ipython",
    "version": 3
   },
   "file_extension": ".py",
   "mimetype": "text/x-python",
   "name": "python",
   "nbconvert_exporter": "python",
   "pygments_lexer": "ipython3",
   "version": "3.6.9"
  }
 },
 "nbformat": 4,
 "nbformat_minor": 4
}
