{
 "cells": [
  {
   "cell_type": "code",
   "execution_count": 1,
   "metadata": {},
   "outputs": [],
   "source": [
    "import pandas as pd\n",
    "import numpy as np\n",
    "import re\n",
    "import matplotlib.pyplot as plt"
   ]
  },
  {
   "cell_type": "code",
   "execution_count": 2,
   "metadata": {},
   "outputs": [
    {
     "name": "stdout",
     "output_type": "stream",
     "text": [
      "shape: (3069, 31)\n",
      "<class 'pandas.core.frame.DataFrame'>\n",
      "Int64Index: 3069 entries, 3 to 15214\n",
      "Data columns (total 31 columns):\n",
      " #   Column                   Non-Null Count  Dtype \n",
      "---  ------                   --------------  ----- \n",
      " 0   usluga                   3069 non-null   object\n",
      " 1   tip                      3069 non-null   object\n",
      " 2   cena                     3069 non-null   object\n",
      " 3   grad                     3069 non-null   object\n",
      " 4   sira_lokacija            3069 non-null   object\n",
      " 5   uza_lokacija             3069 non-null   object\n",
      " 6   adresa                   3069 non-null   object\n",
      " 7   povrsina                 3069 non-null   object\n",
      " 8   plac                     0 non-null      object\n",
      " 9   broj_soba                3067 non-null   object\n",
      " 10  uknjizenost              2501 non-null   object\n",
      " 11  grejanje                 2791 non-null   object\n",
      " 12  broj_etaza               0 non-null      object\n",
      " 13  stanje                   1907 non-null   object\n",
      " 14  godina_izgradnje         878 non-null    object\n",
      " 15  spratnost                3036 non-null   object\n",
      " 16  lift                     1607 non-null   object\n",
      " 17  infrastruktura           2284 non-null   object\n",
      " 18  parking                  579 non-null    object\n",
      " 19  garaza                   507 non-null    object\n",
      " 20  unutrasnje_prostorije    1921 non-null   object\n",
      " 21  namestenost              2413 non-null   object\n",
      " 22  opremljenost             2456 non-null   object\n",
      " 23  useljivo                 1085 non-null   object\n",
      " 24  orijentacija_nekretnine  72 non-null     object\n",
      " 25  tip_objekta              103 non-null    object\n",
      " 26  tip_stana                9 non-null      object\n",
      " 27  tip_kuce                 0 non-null      object\n",
      " 28  sifra_oglasa             2796 non-null   object\n",
      " 29  opis                     3069 non-null   object\n",
      " 30  link                     3069 non-null   object\n",
      "dtypes: object(31)\n",
      "memory usage: 767.2+ KB\n",
      "info: None\n"
     ]
    }
   ],
   "source": [
    "df = pd.read_csv('./podaci/data_odbrana', lineterminator='\\n', header='infer')\n",
    "df = df[(df.tip == 'stan') & (df.grad =='Beograd') & (df.usluga=='prodaja')]\n",
    "print(f'shape: {df.shape}')\n",
    "print(f'info: {df.info()}')"
   ]
  },
  {
   "cell_type": "code",
   "execution_count": 3,
   "metadata": {},
   "outputs": [],
   "source": [
    "irelevantne_kolone = [\n",
    "    'usluga',\n",
    "    'tip',\n",
    "    'grad',\n",
    "    'plac',\n",
    "    'broj_etaza',\n",
    "    'tip_objekta',\n",
    "    'tip_kuce',\n",
    "    'sifra_oglasa',\n",
    "    'opis',\n",
    "    'link',\n",
    "    'opremljenost'\n",
    "]\n",
    "\n",
    "null_kolone = ['tip_stana','orijentacija_nekretnine']\n",
    "\n",
    "df.drop(irelevantne_kolone + null_kolone, axis=1, inplace=True)"
   ]
  },
  {
   "cell_type": "code",
   "execution_count": 4,
   "metadata": {},
   "outputs": [
    {
     "data": {
      "text/plain": [
       "{'bazen',\n",
       " 'bazen, lođa',\n",
       " 'bazen, podrum, terasa',\n",
       " 'bazen, terasa',\n",
       " 'dvorište',\n",
       " 'dvorište, lođa',\n",
       " 'dvorište, podrum',\n",
       " 'dvorište, podrum, lođa',\n",
       " 'dvorište, podrum, terasa',\n",
       " 'dvorište, podrum, terasa, lođa',\n",
       " 'dvorište, podrum, terase (2)',\n",
       " 'dvorište, tavan, podrum, terase (2)',\n",
       " 'dvorište, terasa',\n",
       " 'dvorište, terasa, lođa',\n",
       " 'lođa',\n",
       " 'lođe (2)',\n",
       " 'lođe (4)',\n",
       " nan,\n",
       " 'podrum',\n",
       " 'podrum, lođa',\n",
       " 'podrum, terasa',\n",
       " 'podrum, terasa, lođa',\n",
       " 'podrum, terasa, lođe (2)',\n",
       " 'podrum, terase (2)',\n",
       " 'podrum, terase (3)',\n",
       " 'prilaz za invalide',\n",
       " 'prilaz za invalide, dvorište',\n",
       " 'prilaz za invalide, dvorište, tavan, terasa',\n",
       " 'prilaz za invalide, dvorište, terasa',\n",
       " 'prilaz za invalide, podrum, lođa',\n",
       " 'prilaz za invalide, podrum, terasa',\n",
       " 'prilaz za invalide, podrum, terasa, lođa',\n",
       " 'prilaz za invalide, tavan, terasa',\n",
       " 'prilaz za invalide, tavan, terasa, lođa',\n",
       " 'prilaz za invalide, terasa, lođa',\n",
       " 'tavan',\n",
       " 'tavan, lođa',\n",
       " 'tavan, podrum',\n",
       " 'tavan, podrum, lođa',\n",
       " 'tavan, podrum, terasa',\n",
       " 'tavan, terasa',\n",
       " 'tavan, terasa, lođa',\n",
       " 'terasa',\n",
       " 'terasa, lođa',\n",
       " 'terasa, lođe (2)',\n",
       " 'terase (2)',\n",
       " 'terase (2), lođa',\n",
       " 'terase (3)'}"
      ]
     },
     "execution_count": 4,
     "metadata": {},
     "output_type": "execute_result"
    }
   ],
   "source": [
    "set(df.infrastruktura)"
   ]
  },
  {
   "cell_type": "code",
   "execution_count": 5,
   "metadata": {},
   "outputs": [
    {
     "data": {
      "text/plain": [
       "3     nema\n",
       "5      ima\n",
       "6      ima\n",
       "8      ima\n",
       "10     ima\n",
       "Name: infrastruktura, dtype: object"
      ]
     },
     "execution_count": 5,
     "metadata": {},
     "output_type": "execute_result"
    }
   ],
   "source": [
    "def clean_infrastruktura(infrastruktura):\n",
    "    result = None\n",
    "    try:\n",
    "        if ('terasa' in infrastruktura or 'terase' in infrastruktura or 'lođa' in infrastruktura or 'lođe' in infrastruktura):    \n",
    "            result = 'ima'\n",
    "        else:\n",
    "            result = 'nema'\n",
    "    except:\n",
    "        result='nema'\n",
    "    \n",
    "    return result \n",
    "\n",
    "\n",
    "df.infrastruktura = df.infrastruktura.map(lambda infrastruktura: clean_infrastruktura(str(infrastruktura)))\n",
    "df.infrastruktura.head()"
   ]
  },
  {
   "cell_type": "code",
   "execution_count": 6,
   "metadata": {},
   "outputs": [
    {
     "data": {
      "text/plain": [
       "3                               prizemlje\n",
       "5       3/4 sprata (nije poslednji sprat)\n",
       "6     3/5 spratova (nije poslednji sprat)\n",
       "8     1/6 spratova (nije poslednji sprat)\n",
       "10                           5/5 spratova\n",
       "Name: spratnost, dtype: object"
      ]
     },
     "execution_count": 6,
     "metadata": {},
     "output_type": "execute_result"
    }
   ],
   "source": [
    "df.spratnost.head()"
   ]
  },
  {
   "cell_type": "code",
   "execution_count": 7,
   "metadata": {},
   "outputs": [
    {
     "data": {
      "text/plain": [
       "3     prizemlje\n",
       "5             3\n",
       "6             3\n",
       "8             1\n",
       "10            5\n",
       "Name: spratnost, dtype: object"
      ]
     },
     "execution_count": 7,
     "metadata": {},
     "output_type": "execute_result"
    }
   ],
   "source": [
    "def clean_spratnost(spratnost):\n",
    "    sprat = None\n",
    "    try:\n",
    "        if('prizemlje' in spratnost):\n",
    "            sprat = 'prizemlje'\n",
    "        if('suteren' in spratnost):\n",
    "            sprat = 'suteren'\n",
    "        if('potkrovlje' in spratnost):\n",
    "            sprat = 'potkrovlje'\n",
    "        match = re.search(\"(\\d)/(\\d+)\", spratnost)\n",
    "        if match: \n",
    "            sprat = match.group(1)\n",
    "            if(int(sprat) > 7):\n",
    "                sprat = '>7'\n",
    "        match = re.search(\"(\\d). sprat\", spratnost)\n",
    "        if match: \n",
    "            sprat = match.group(1)\n",
    "            if(int(sprat) > 7):\n",
    "                sprat = '>7'\n",
    "    except:\n",
    "        print(spratnost)\n",
    "        \n",
    "    return sprat\n",
    "\n",
    "\n",
    "df.spratnost = df.spratnost.map(lambda spratnost: clean_spratnost(str(spratnost)))\n",
    "df.spratnost.head()"
   ]
  },
  {
   "cell_type": "code",
   "execution_count": 8,
   "metadata": {},
   "outputs": [
    {
     "data": {
      "text/plain": [
       "3              NaN\n",
       "5              NaN\n",
       "6              NaN\n",
       "8     2020. godine\n",
       "10             NaN\n",
       "17    1962. godine\n",
       "19             NaN\n",
       "20    2021. godine\n",
       "21    1930. godine\n",
       "22             NaN\n",
       "Name: godina_izgradnje, dtype: object"
      ]
     },
     "execution_count": 8,
     "metadata": {},
     "output_type": "execute_result"
    }
   ],
   "source": [
    "df.godina_izgradnje.head(10)"
   ]
  },
  {
   "cell_type": "code",
   "execution_count": 9,
   "metadata": {},
   "outputs": [
    {
     "data": {
      "text/plain": [
       "3     None\n",
       "5     None\n",
       "6     None\n",
       "8     2020\n",
       "10    None\n",
       "17    1962\n",
       "19    None\n",
       "20    2021\n",
       "21    1930\n",
       "22    None\n",
       "Name: godina_izgradnje, dtype: object"
      ]
     },
     "execution_count": 9,
     "metadata": {},
     "output_type": "execute_result"
    }
   ],
   "source": [
    "def clean_godina_izgradnje(godina_izgradnje):\n",
    "    godina = re.search(\"(\\d{4}). godine\", godina_izgradnje)\n",
    "    if godina:\n",
    "        return godina.group(1)\n",
    "    else:\n",
    "        return None\n",
    "\n",
    "df.godina_izgradnje = df.godina_izgradnje.map(lambda godina_izgradnje: clean_godina_izgradnje(str(godina_izgradnje)))\n",
    "df.godina_izgradnje.head(10)"
   ]
  },
  {
   "cell_type": "code",
   "execution_count": 10,
   "metadata": {},
   "outputs": [
    {
     "data": {
      "text/plain": [
       "3       2.000 €\n",
       "5     275.000 €\n",
       "6     270.000 €\n",
       "8     610.000 €\n",
       "10    193.000 €\n",
       "Name: cena, dtype: object"
      ]
     },
     "execution_count": 10,
     "metadata": {},
     "output_type": "execute_result"
    }
   ],
   "source": [
    "df.cena.head()"
   ]
  },
  {
   "cell_type": "code",
   "execution_count": 11,
   "metadata": {},
   "outputs": [
    {
     "data": {
      "text/plain": [
       "3       2000.0\n",
       "5     275000.0\n",
       "6     270000.0\n",
       "8     610000.0\n",
       "10    193000.0\n",
       "Name: cena, dtype: float64"
      ]
     },
     "execution_count": 11,
     "metadata": {},
     "output_type": "execute_result"
    }
   ],
   "source": [
    "df.cena = df.cena.map(lambda cena: float(cena.replace('€','').replace('.','')))\n",
    "df.cena.head()"
   ]
  },
  {
   "cell_type": "code",
   "execution_count": 12,
   "metadata": {},
   "outputs": [
    {
     "data": {
      "text/plain": [
       "3      50m²\n",
       "5     162m²\n",
       "6     105m²\n",
       "8     153m²\n",
       "10     72m²\n",
       "Name: povrsina, dtype: object"
      ]
     },
     "execution_count": 12,
     "metadata": {},
     "output_type": "execute_result"
    }
   ],
   "source": [
    "df.povrsina.head()"
   ]
  },
  {
   "cell_type": "code",
   "execution_count": 13,
   "metadata": {},
   "outputs": [
    {
     "data": {
      "text/plain": [
       "3      50.0\n",
       "5     162.0\n",
       "6     105.0\n",
       "8     153.0\n",
       "10     72.0\n",
       "Name: povrsina, dtype: float64"
      ]
     },
     "execution_count": 13,
     "metadata": {},
     "output_type": "execute_result"
    }
   ],
   "source": [
    "df.povrsina = df.povrsina.map(lambda povrsina: float(povrsina.replace('m²', '')))\n",
    "df.povrsina.head()"
   ]
  },
  {
   "cell_type": "code",
   "execution_count": 14,
   "metadata": {},
   "outputs": [
    {
     "data": {
      "text/html": [
       "<div>\n",
       "<style scoped>\n",
       "    .dataframe tbody tr th:only-of-type {\n",
       "        vertical-align: middle;\n",
       "    }\n",
       "\n",
       "    .dataframe tbody tr th {\n",
       "        vertical-align: top;\n",
       "    }\n",
       "\n",
       "    .dataframe thead th {\n",
       "        text-align: right;\n",
       "    }\n",
       "</style>\n",
       "<table border=\"1\" class=\"dataframe\">\n",
       "  <thead>\n",
       "    <tr style=\"text-align: right;\">\n",
       "      <th></th>\n",
       "      <th>Total</th>\n",
       "      <th>Percent</th>\n",
       "    </tr>\n",
       "  </thead>\n",
       "  <tbody>\n",
       "    <tr>\n",
       "      <th>garaza</th>\n",
       "      <td>2562</td>\n",
       "      <td>83.479961</td>\n",
       "    </tr>\n",
       "    <tr>\n",
       "      <th>parking</th>\n",
       "      <td>2490</td>\n",
       "      <td>81.133920</td>\n",
       "    </tr>\n",
       "    <tr>\n",
       "      <th>godina_izgradnje</th>\n",
       "      <td>2191</td>\n",
       "      <td>71.391333</td>\n",
       "    </tr>\n",
       "    <tr>\n",
       "      <th>useljivo</th>\n",
       "      <td>1984</td>\n",
       "      <td>64.646465</td>\n",
       "    </tr>\n",
       "    <tr>\n",
       "      <th>lift</th>\n",
       "      <td>1462</td>\n",
       "      <td>47.637667</td>\n",
       "    </tr>\n",
       "    <tr>\n",
       "      <th>stanje</th>\n",
       "      <td>1162</td>\n",
       "      <td>37.862496</td>\n",
       "    </tr>\n",
       "    <tr>\n",
       "      <th>unutrasnje_prostorije</th>\n",
       "      <td>1148</td>\n",
       "      <td>37.406321</td>\n",
       "    </tr>\n",
       "    <tr>\n",
       "      <th>namestenost</th>\n",
       "      <td>656</td>\n",
       "      <td>21.375041</td>\n",
       "    </tr>\n",
       "    <tr>\n",
       "      <th>uknjizenost</th>\n",
       "      <td>568</td>\n",
       "      <td>18.507657</td>\n",
       "    </tr>\n",
       "    <tr>\n",
       "      <th>grejanje</th>\n",
       "      <td>278</td>\n",
       "      <td>9.058325</td>\n",
       "    </tr>\n",
       "    <tr>\n",
       "      <th>spratnost</th>\n",
       "      <td>33</td>\n",
       "      <td>1.075269</td>\n",
       "    </tr>\n",
       "    <tr>\n",
       "      <th>broj_soba</th>\n",
       "      <td>2</td>\n",
       "      <td>0.065168</td>\n",
       "    </tr>\n",
       "    <tr>\n",
       "      <th>infrastruktura</th>\n",
       "      <td>0</td>\n",
       "      <td>0.000000</td>\n",
       "    </tr>\n",
       "    <tr>\n",
       "      <th>povrsina</th>\n",
       "      <td>0</td>\n",
       "      <td>0.000000</td>\n",
       "    </tr>\n",
       "    <tr>\n",
       "      <th>adresa</th>\n",
       "      <td>0</td>\n",
       "      <td>0.000000</td>\n",
       "    </tr>\n",
       "    <tr>\n",
       "      <th>uza_lokacija</th>\n",
       "      <td>0</td>\n",
       "      <td>0.000000</td>\n",
       "    </tr>\n",
       "    <tr>\n",
       "      <th>sira_lokacija</th>\n",
       "      <td>0</td>\n",
       "      <td>0.000000</td>\n",
       "    </tr>\n",
       "    <tr>\n",
       "      <th>cena</th>\n",
       "      <td>0</td>\n",
       "      <td>0.000000</td>\n",
       "    </tr>\n",
       "  </tbody>\n",
       "</table>\n",
       "</div>"
      ],
      "text/plain": [
       "                       Total    Percent\n",
       "garaza                  2562  83.479961\n",
       "parking                 2490  81.133920\n",
       "godina_izgradnje        2191  71.391333\n",
       "useljivo                1984  64.646465\n",
       "lift                    1462  47.637667\n",
       "stanje                  1162  37.862496\n",
       "unutrasnje_prostorije   1148  37.406321\n",
       "namestenost              656  21.375041\n",
       "uknjizenost              568  18.507657\n",
       "grejanje                 278   9.058325\n",
       "spratnost                 33   1.075269\n",
       "broj_soba                  2   0.065168\n",
       "infrastruktura             0   0.000000\n",
       "povrsina                   0   0.000000\n",
       "adresa                     0   0.000000\n",
       "uza_lokacija               0   0.000000\n",
       "sira_lokacija              0   0.000000\n",
       "cena                       0   0.000000"
      ]
     },
     "execution_count": 14,
     "metadata": {},
     "output_type": "execute_result"
    }
   ],
   "source": [
    "#missing data\n",
    "total = df.isnull().sum().sort_values(ascending=False)\n",
    "percent = ((df.isnull().sum()/df.isnull().count()) * 100).sort_values(ascending=False)\n",
    "missing_data = pd.concat([total, percent], axis=1, keys=['Total', 'Percent'])\n",
    "missing_data.head(20)"
   ]
  },
  {
   "cell_type": "code",
   "execution_count": 15,
   "metadata": {},
   "outputs": [],
   "source": [
    "##izbrisi sve kolone kojima fali >20%\n",
    "##ove kolone su i onako irelevantne i iz drugih razloga\n",
    "\n",
    "##ostaviti stanje za dalje razmatranje\n",
    "\n",
    "col_to_drop = []\n",
    "for original_col in missing_data.index:\n",
    "    if(missing_data.loc[original_col]['Percent'] > 20 and original_col != 'godina_izgradnje' and original_col != 'stanje' and original_col != 'ukupan_broj_spratova'):\n",
    "        col_to_drop.append(original_col)\n",
    "        \n",
    "\n",
    "df.drop(col_to_drop, axis=1, inplace=True)"
   ]
  },
  {
   "cell_type": "code",
   "execution_count": 16,
   "metadata": {},
   "outputs": [
    {
     "data": {
      "text/html": [
       "<div>\n",
       "<style scoped>\n",
       "    .dataframe tbody tr th:only-of-type {\n",
       "        vertical-align: middle;\n",
       "    }\n",
       "\n",
       "    .dataframe tbody tr th {\n",
       "        vertical-align: top;\n",
       "    }\n",
       "\n",
       "    .dataframe thead th {\n",
       "        text-align: right;\n",
       "    }\n",
       "</style>\n",
       "<table border=\"1\" class=\"dataframe\">\n",
       "  <thead>\n",
       "    <tr style=\"text-align: right;\">\n",
       "      <th></th>\n",
       "      <th>Total</th>\n",
       "      <th>Percent</th>\n",
       "    </tr>\n",
       "  </thead>\n",
       "  <tbody>\n",
       "    <tr>\n",
       "      <th>godina_izgradnje</th>\n",
       "      <td>2191</td>\n",
       "      <td>71.391333</td>\n",
       "    </tr>\n",
       "    <tr>\n",
       "      <th>stanje</th>\n",
       "      <td>1162</td>\n",
       "      <td>37.862496</td>\n",
       "    </tr>\n",
       "    <tr>\n",
       "      <th>uknjizenost</th>\n",
       "      <td>568</td>\n",
       "      <td>18.507657</td>\n",
       "    </tr>\n",
       "    <tr>\n",
       "      <th>grejanje</th>\n",
       "      <td>278</td>\n",
       "      <td>9.058325</td>\n",
       "    </tr>\n",
       "    <tr>\n",
       "      <th>spratnost</th>\n",
       "      <td>33</td>\n",
       "      <td>1.075269</td>\n",
       "    </tr>\n",
       "    <tr>\n",
       "      <th>broj_soba</th>\n",
       "      <td>2</td>\n",
       "      <td>0.065168</td>\n",
       "    </tr>\n",
       "    <tr>\n",
       "      <th>infrastruktura</th>\n",
       "      <td>0</td>\n",
       "      <td>0.000000</td>\n",
       "    </tr>\n",
       "    <tr>\n",
       "      <th>povrsina</th>\n",
       "      <td>0</td>\n",
       "      <td>0.000000</td>\n",
       "    </tr>\n",
       "    <tr>\n",
       "      <th>adresa</th>\n",
       "      <td>0</td>\n",
       "      <td>0.000000</td>\n",
       "    </tr>\n",
       "    <tr>\n",
       "      <th>uza_lokacija</th>\n",
       "      <td>0</td>\n",
       "      <td>0.000000</td>\n",
       "    </tr>\n",
       "  </tbody>\n",
       "</table>\n",
       "</div>"
      ],
      "text/plain": [
       "                  Total    Percent\n",
       "godina_izgradnje   2191  71.391333\n",
       "stanje             1162  37.862496\n",
       "uknjizenost         568  18.507657\n",
       "grejanje            278   9.058325\n",
       "spratnost            33   1.075269\n",
       "broj_soba             2   0.065168\n",
       "infrastruktura        0   0.000000\n",
       "povrsina              0   0.000000\n",
       "adresa                0   0.000000\n",
       "uza_lokacija          0   0.000000"
      ]
     },
     "execution_count": 16,
     "metadata": {},
     "output_type": "execute_result"
    }
   ],
   "source": [
    "#missing data\n",
    "total = df.isnull().sum().sort_values(ascending=False)\n",
    "percent = ((df.isnull().sum()/df.isnull().count()) * 100).sort_values(ascending=False)\n",
    "missing_data = pd.concat([total, percent], axis=1, keys=['Total', 'Percent'])\n",
    "missing_data.head(10)"
   ]
  },
  {
   "cell_type": "markdown",
   "metadata": {},
   "source": [
    "## Previse null vrednosti za godina_izgradnje - ukloniti"
   ]
  },
  {
   "cell_type": "code",
   "execution_count": 17,
   "metadata": {},
   "outputs": [],
   "source": [
    "df1 = df"
   ]
  },
  {
   "cell_type": "code",
   "execution_count": 18,
   "metadata": {},
   "outputs": [],
   "source": [
    "df.drop(['godina_izgradnje'], axis=1, inplace=True)"
   ]
  },
  {
   "cell_type": "markdown",
   "metadata": {},
   "source": [
    "## Dodaj promenljivu - udaljenost_od_centra"
   ]
  },
  {
   "cell_type": "code",
   "execution_count": 19,
   "metadata": {},
   "outputs": [],
   "source": [
    "df_adr_to_loc = pd.read_csv('./podaci/adr_to_distance_backup.csv', lineterminator='\\n', header='infer')"
   ]
  },
  {
   "cell_type": "code",
   "execution_count": 20,
   "metadata": {},
   "outputs": [],
   "source": [
    "def create_distance(row):\n",
    "    adr_row = df_adr_to_loc[df_adr_to_loc.adresa == row.adresa]\n",
    "    try:\n",
    "        row.udaljenost_od_centra = list(adr_row['udaljenost_od_centra'])[0] if len(adr_row) > 0 else None\n",
    "    except:\n",
    "          pass\n",
    "    return row"
   ]
  },
  {
   "cell_type": "code",
   "execution_count": 21,
   "metadata": {},
   "outputs": [
    {
     "data": {
      "text/html": [
       "<div>\n",
       "<style scoped>\n",
       "    .dataframe tbody tr th:only-of-type {\n",
       "        vertical-align: middle;\n",
       "    }\n",
       "\n",
       "    .dataframe tbody tr th {\n",
       "        vertical-align: top;\n",
       "    }\n",
       "\n",
       "    .dataframe thead th {\n",
       "        text-align: right;\n",
       "    }\n",
       "</style>\n",
       "<table border=\"1\" class=\"dataframe\">\n",
       "  <thead>\n",
       "    <tr style=\"text-align: right;\">\n",
       "      <th></th>\n",
       "      <th>cena</th>\n",
       "      <th>sira_lokacija</th>\n",
       "      <th>uza_lokacija</th>\n",
       "      <th>adresa</th>\n",
       "      <th>povrsina</th>\n",
       "      <th>broj_soba</th>\n",
       "      <th>uknjizenost</th>\n",
       "      <th>grejanje</th>\n",
       "      <th>stanje</th>\n",
       "      <th>spratnost</th>\n",
       "      <th>infrastruktura</th>\n",
       "      <th>udaljenost_od_centra</th>\n",
       "    </tr>\n",
       "  </thead>\n",
       "  <tbody>\n",
       "    <tr>\n",
       "      <th>3</th>\n",
       "      <td>2000.0</td>\n",
       "      <td>Palilula opština</td>\n",
       "      <td>Krnjača</td>\n",
       "      <td>Partizanski blok ulica 1.</td>\n",
       "      <td>50.0</td>\n",
       "      <td>2 sobe</td>\n",
       "      <td>NaN</td>\n",
       "      <td>grejanje na struju</td>\n",
       "      <td>novo</td>\n",
       "      <td>prizemlje</td>\n",
       "      <td>nema</td>\n",
       "      <td>3.481600</td>\n",
       "    </tr>\n",
       "    <tr>\n",
       "      <th>5</th>\n",
       "      <td>275000.0</td>\n",
       "      <td>Zvezdara opština</td>\n",
       "      <td>Lion</td>\n",
       "      <td>Batutova</td>\n",
       "      <td>162.0</td>\n",
       "      <td>6 soba</td>\n",
       "      <td>uknjiženo</td>\n",
       "      <td>etažno grejanje</td>\n",
       "      <td>renovirano</td>\n",
       "      <td>3</td>\n",
       "      <td>ima</td>\n",
       "      <td>4.063796</td>\n",
       "    </tr>\n",
       "    <tr>\n",
       "      <th>6</th>\n",
       "      <td>270000.0</td>\n",
       "      <td>Palilula opština</td>\n",
       "      <td>Palilula</td>\n",
       "      <td>Dr Dragoslava Popovića</td>\n",
       "      <td>105.0</td>\n",
       "      <td>4 sobe</td>\n",
       "      <td>uknjiženo</td>\n",
       "      <td>centralno grejanje</td>\n",
       "      <td>novo</td>\n",
       "      <td>3</td>\n",
       "      <td>ima</td>\n",
       "      <td>1.526104</td>\n",
       "    </tr>\n",
       "    <tr>\n",
       "      <th>8</th>\n",
       "      <td>610000.0</td>\n",
       "      <td>Vračar</td>\n",
       "      <td>Neimar</td>\n",
       "      <td>Braničevska</td>\n",
       "      <td>153.0</td>\n",
       "      <td>4 sobe</td>\n",
       "      <td>u procesu uknjižavanja</td>\n",
       "      <td>podno grejanje</td>\n",
       "      <td>novo</td>\n",
       "      <td>1</td>\n",
       "      <td>ima</td>\n",
       "      <td>2.779669</td>\n",
       "    </tr>\n",
       "    <tr>\n",
       "      <th>10</th>\n",
       "      <td>193000.0</td>\n",
       "      <td>Stari Grad opština</td>\n",
       "      <td>Dorćol</td>\n",
       "      <td>Dobračina</td>\n",
       "      <td>72.0</td>\n",
       "      <td>2.5 sobe</td>\n",
       "      <td>uknjiženo</td>\n",
       "      <td>TA peć</td>\n",
       "      <td>NaN</td>\n",
       "      <td>5</td>\n",
       "      <td>ima</td>\n",
       "      <td>0.430149</td>\n",
       "    </tr>\n",
       "  </tbody>\n",
       "</table>\n",
       "</div>"
      ],
      "text/plain": [
       "        cena       sira_lokacija uza_lokacija                     adresa  \\\n",
       "3     2000.0    Palilula opština      Krnjača  Partizanski blok ulica 1.   \n",
       "5   275000.0    Zvezdara opština         Lion                   Batutova   \n",
       "6   270000.0    Palilula opština     Palilula     Dr Dragoslava Popovića   \n",
       "8   610000.0              Vračar       Neimar                Braničevska   \n",
       "10  193000.0  Stari Grad opština       Dorćol                  Dobračina   \n",
       "\n",
       "    povrsina broj_soba             uknjizenost            grejanje  \\\n",
       "3       50.0    2 sobe                     NaN  grejanje na struju   \n",
       "5      162.0    6 soba               uknjiženo     etažno grejanje   \n",
       "6      105.0    4 sobe               uknjiženo  centralno grejanje   \n",
       "8      153.0    4 sobe  u procesu uknjižavanja      podno grejanje   \n",
       "10      72.0  2.5 sobe               uknjiženo              TA peć   \n",
       "\n",
       "        stanje  spratnost infrastruktura  udaljenost_od_centra  \n",
       "3         novo  prizemlje           nema              3.481600  \n",
       "5   renovirano          3            ima              4.063796  \n",
       "6         novo          3            ima              1.526104  \n",
       "8         novo          1            ima              2.779669  \n",
       "10         NaN          5            ima              0.430149  "
      ]
     },
     "execution_count": 21,
     "metadata": {},
     "output_type": "execute_result"
    }
   ],
   "source": [
    "df['udaljenost_od_centra'] = None\n",
    "df = df.apply(create_distance, axis=1)\n",
    "df.head()"
   ]
  },
  {
   "cell_type": "code",
   "execution_count": 22,
   "metadata": {},
   "outputs": [],
   "source": [
    "df = df[df.udaljenost_od_centra < 15]"
   ]
  },
  {
   "cell_type": "code",
   "execution_count": 23,
   "metadata": {},
   "outputs": [],
   "source": [
    "df = df.drop(['adresa'], axis=1)"
   ]
  },
  {
   "cell_type": "markdown",
   "metadata": {},
   "source": [
    "## Brza analiza promenljivih (feature-a) - dodatno brisanje kolona"
   ]
  },
  {
   "cell_type": "code",
   "execution_count": 24,
   "metadata": {},
   "outputs": [
    {
     "data": {
      "text/html": [
       "<style  type=\"text/css\" >\n",
       "#T_f0312060_8dc3_11ec_95fb_2079180c711erow0_col0,#T_f0312060_8dc3_11ec_95fb_2079180c711erow1_col1,#T_f0312060_8dc3_11ec_95fb_2079180c711erow2_col2,#T_f0312060_8dc3_11ec_95fb_2079180c711erow3_col3,#T_f0312060_8dc3_11ec_95fb_2079180c711erow4_col4,#T_f0312060_8dc3_11ec_95fb_2079180c711erow5_col5,#T_f0312060_8dc3_11ec_95fb_2079180c711erow6_col6,#T_f0312060_8dc3_11ec_95fb_2079180c711erow7_col7,#T_f0312060_8dc3_11ec_95fb_2079180c711erow8_col8,#T_f0312060_8dc3_11ec_95fb_2079180c711erow9_col9,#T_f0312060_8dc3_11ec_95fb_2079180c711erow10_col10{\n",
       "            background-color:  #023858;\n",
       "            color:  #f1f1f1;\n",
       "        }#T_f0312060_8dc3_11ec_95fb_2079180c711erow0_col1,#T_f0312060_8dc3_11ec_95fb_2079180c711erow4_col7{\n",
       "            background-color:  #ebe6f2;\n",
       "            color:  #000000;\n",
       "        }#T_f0312060_8dc3_11ec_95fb_2079180c711erow0_col2,#T_f0312060_8dc3_11ec_95fb_2079180c711erow0_col6,#T_f0312060_8dc3_11ec_95fb_2079180c711erow0_col10,#T_f0312060_8dc3_11ec_95fb_2079180c711erow1_col5,#T_f0312060_8dc3_11ec_95fb_2079180c711erow3_col9,#T_f0312060_8dc3_11ec_95fb_2079180c711erow4_col8,#T_f0312060_8dc3_11ec_95fb_2079180c711erow7_col1,#T_f0312060_8dc3_11ec_95fb_2079180c711erow9_col3,#T_f0312060_8dc3_11ec_95fb_2079180c711erow9_col4,#T_f0312060_8dc3_11ec_95fb_2079180c711erow10_col0,#T_f0312060_8dc3_11ec_95fb_2079180c711erow10_col7{\n",
       "            background-color:  #fff7fb;\n",
       "            color:  #000000;\n",
       "        }#T_f0312060_8dc3_11ec_95fb_2079180c711erow0_col3{\n",
       "            background-color:  #046096;\n",
       "            color:  #f1f1f1;\n",
       "        }#T_f0312060_8dc3_11ec_95fb_2079180c711erow0_col4{\n",
       "            background-color:  #1b7eb7;\n",
       "            color:  #000000;\n",
       "        }#T_f0312060_8dc3_11ec_95fb_2079180c711erow0_col5,#T_f0312060_8dc3_11ec_95fb_2079180c711erow3_col10,#T_f0312060_8dc3_11ec_95fb_2079180c711erow7_col0{\n",
       "            background-color:  #e1dfed;\n",
       "            color:  #000000;\n",
       "        }#T_f0312060_8dc3_11ec_95fb_2079180c711erow0_col7,#T_f0312060_8dc3_11ec_95fb_2079180c711erow7_col6,#T_f0312060_8dc3_11ec_95fb_2079180c711erow10_col5{\n",
       "            background-color:  #f5eff6;\n",
       "            color:  #000000;\n",
       "        }#T_f0312060_8dc3_11ec_95fb_2079180c711erow0_col8{\n",
       "            background-color:  #fef6fb;\n",
       "            color:  #000000;\n",
       "        }#T_f0312060_8dc3_11ec_95fb_2079180c711erow0_col9,#T_f0312060_8dc3_11ec_95fb_2079180c711erow3_col8{\n",
       "            background-color:  #f8f1f8;\n",
       "            color:  #000000;\n",
       "        }#T_f0312060_8dc3_11ec_95fb_2079180c711erow1_col0{\n",
       "            background-color:  #d2d3e7;\n",
       "            color:  #000000;\n",
       "        }#T_f0312060_8dc3_11ec_95fb_2079180c711erow1_col2{\n",
       "            background-color:  #509ac6;\n",
       "            color:  #000000;\n",
       "        }#T_f0312060_8dc3_11ec_95fb_2079180c711erow1_col3,#T_f0312060_8dc3_11ec_95fb_2079180c711erow1_col6,#T_f0312060_8dc3_11ec_95fb_2079180c711erow5_col4,#T_f0312060_8dc3_11ec_95fb_2079180c711erow9_col6{\n",
       "            background-color:  #d7d6e9;\n",
       "            color:  #000000;\n",
       "        }#T_f0312060_8dc3_11ec_95fb_2079180c711erow1_col4,#T_f0312060_8dc3_11ec_95fb_2079180c711erow8_col2{\n",
       "            background-color:  #dbdaeb;\n",
       "            color:  #000000;\n",
       "        }#T_f0312060_8dc3_11ec_95fb_2079180c711erow1_col7{\n",
       "            background-color:  #fef6fa;\n",
       "            color:  #000000;\n",
       "        }#T_f0312060_8dc3_11ec_95fb_2079180c711erow1_col8,#T_f0312060_8dc3_11ec_95fb_2079180c711erow2_col3,#T_f0312060_8dc3_11ec_95fb_2079180c711erow5_col10,#T_f0312060_8dc3_11ec_95fb_2079180c711erow6_col2,#T_f0312060_8dc3_11ec_95fb_2079180c711erow10_col1{\n",
       "            background-color:  #dcdaeb;\n",
       "            color:  #000000;\n",
       "        }#T_f0312060_8dc3_11ec_95fb_2079180c711erow1_col9{\n",
       "            background-color:  #dddbec;\n",
       "            color:  #000000;\n",
       "        }#T_f0312060_8dc3_11ec_95fb_2079180c711erow1_col10,#T_f0312060_8dc3_11ec_95fb_2079180c711erow5_col7,#T_f0312060_8dc3_11ec_95fb_2079180c711erow6_col10{\n",
       "            background-color:  #c0c9e2;\n",
       "            color:  #000000;\n",
       "        }#T_f0312060_8dc3_11ec_95fb_2079180c711erow2_col0,#T_f0312060_8dc3_11ec_95fb_2079180c711erow8_col0{\n",
       "            background-color:  #e5e1ef;\n",
       "            color:  #000000;\n",
       "        }#T_f0312060_8dc3_11ec_95fb_2079180c711erow2_col1{\n",
       "            background-color:  #4897c4;\n",
       "            color:  #000000;\n",
       "        }#T_f0312060_8dc3_11ec_95fb_2079180c711erow2_col4{\n",
       "            background-color:  #dfddec;\n",
       "            color:  #000000;\n",
       "        }#T_f0312060_8dc3_11ec_95fb_2079180c711erow2_col5{\n",
       "            background-color:  #f7f0f7;\n",
       "            color:  #000000;\n",
       "        }#T_f0312060_8dc3_11ec_95fb_2079180c711erow2_col6{\n",
       "            background-color:  #d9d8ea;\n",
       "            color:  #000000;\n",
       "        }#T_f0312060_8dc3_11ec_95fb_2079180c711erow2_col7{\n",
       "            background-color:  #f5eef6;\n",
       "            color:  #000000;\n",
       "        }#T_f0312060_8dc3_11ec_95fb_2079180c711erow2_col8{\n",
       "            background-color:  #dad9ea;\n",
       "            color:  #000000;\n",
       "        }#T_f0312060_8dc3_11ec_95fb_2079180c711erow2_col9,#T_f0312060_8dc3_11ec_95fb_2079180c711erow6_col0{\n",
       "            background-color:  #e9e5f1;\n",
       "            color:  #000000;\n",
       "        }#T_f0312060_8dc3_11ec_95fb_2079180c711erow2_col10{\n",
       "            background-color:  #88b1d4;\n",
       "            color:  #000000;\n",
       "        }#T_f0312060_8dc3_11ec_95fb_2079180c711erow3_col0{\n",
       "            background-color:  #045e93;\n",
       "            color:  #f1f1f1;\n",
       "        }#T_f0312060_8dc3_11ec_95fb_2079180c711erow3_col1,#T_f0312060_8dc3_11ec_95fb_2079180c711erow7_col4{\n",
       "            background-color:  #e4e1ef;\n",
       "            color:  #000000;\n",
       "        }#T_f0312060_8dc3_11ec_95fb_2079180c711erow3_col2,#T_f0312060_8dc3_11ec_95fb_2079180c711erow6_col3,#T_f0312060_8dc3_11ec_95fb_2079180c711erow7_col8,#T_f0312060_8dc3_11ec_95fb_2079180c711erow9_col0{\n",
       "            background-color:  #f0eaf4;\n",
       "            color:  #000000;\n",
       "        }#T_f0312060_8dc3_11ec_95fb_2079180c711erow3_col4{\n",
       "            background-color:  #04649e;\n",
       "            color:  #f1f1f1;\n",
       "        }#T_f0312060_8dc3_11ec_95fb_2079180c711erow3_col5,#T_f0312060_8dc3_11ec_95fb_2079180c711erow4_col1,#T_f0312060_8dc3_11ec_95fb_2079180c711erow4_col5,#T_f0312060_8dc3_11ec_95fb_2079180c711erow6_col8,#T_f0312060_8dc3_11ec_95fb_2079180c711erow9_col10{\n",
       "            background-color:  #e3e0ee;\n",
       "            color:  #000000;\n",
       "        }#T_f0312060_8dc3_11ec_95fb_2079180c711erow3_col6{\n",
       "            background-color:  #fdf5fa;\n",
       "            color:  #000000;\n",
       "        }#T_f0312060_8dc3_11ec_95fb_2079180c711erow3_col7,#T_f0312060_8dc3_11ec_95fb_2079180c711erow5_col8,#T_f0312060_8dc3_11ec_95fb_2079180c711erow6_col7{\n",
       "            background-color:  #f2ecf5;\n",
       "            color:  #000000;\n",
       "        }#T_f0312060_8dc3_11ec_95fb_2079180c711erow4_col0{\n",
       "            background-color:  #1278b4;\n",
       "            color:  #f1f1f1;\n",
       "        }#T_f0312060_8dc3_11ec_95fb_2079180c711erow4_col2,#T_f0312060_8dc3_11ec_95fb_2079180c711erow10_col9{\n",
       "            background-color:  #eee8f3;\n",
       "            color:  #000000;\n",
       "        }#T_f0312060_8dc3_11ec_95fb_2079180c711erow4_col3{\n",
       "            background-color:  #04649d;\n",
       "            color:  #f1f1f1;\n",
       "        }#T_f0312060_8dc3_11ec_95fb_2079180c711erow4_col6,#T_f0312060_8dc3_11ec_95fb_2079180c711erow5_col1{\n",
       "            background-color:  #fcf4fa;\n",
       "            color:  #000000;\n",
       "        }#T_f0312060_8dc3_11ec_95fb_2079180c711erow4_col9,#T_f0312060_8dc3_11ec_95fb_2079180c711erow7_col2{\n",
       "            background-color:  #fbf4f9;\n",
       "            color:  #000000;\n",
       "        }#T_f0312060_8dc3_11ec_95fb_2079180c711erow4_col10{\n",
       "            background-color:  #e6e2ef;\n",
       "            color:  #000000;\n",
       "        }#T_f0312060_8dc3_11ec_95fb_2079180c711erow5_col0,#T_f0312060_8dc3_11ec_95fb_2079180c711erow7_col9{\n",
       "            background-color:  #c1cae2;\n",
       "            color:  #000000;\n",
       "        }#T_f0312060_8dc3_11ec_95fb_2079180c711erow5_col2,#T_f0312060_8dc3_11ec_95fb_2079180c711erow9_col2{\n",
       "            background-color:  #f9f2f8;\n",
       "            color:  #000000;\n",
       "        }#T_f0312060_8dc3_11ec_95fb_2079180c711erow5_col3,#T_f0312060_8dc3_11ec_95fb_2079180c711erow5_col9{\n",
       "            background-color:  #d2d2e7;\n",
       "            color:  #000000;\n",
       "        }#T_f0312060_8dc3_11ec_95fb_2079180c711erow5_col6,#T_f0312060_8dc3_11ec_95fb_2079180c711erow6_col4{\n",
       "            background-color:  #f3edf5;\n",
       "            color:  #000000;\n",
       "        }#T_f0312060_8dc3_11ec_95fb_2079180c711erow6_col1{\n",
       "            background-color:  #d3d4e7;\n",
       "            color:  #000000;\n",
       "        }#T_f0312060_8dc3_11ec_95fb_2079180c711erow6_col5,#T_f0312060_8dc3_11ec_95fb_2079180c711erow8_col4,#T_f0312060_8dc3_11ec_95fb_2079180c711erow10_col4{\n",
       "            background-color:  #f4edf6;\n",
       "            color:  #000000;\n",
       "        }#T_f0312060_8dc3_11ec_95fb_2079180c711erow6_col9{\n",
       "            background-color:  #c4cbe3;\n",
       "            color:  #000000;\n",
       "        }#T_f0312060_8dc3_11ec_95fb_2079180c711erow7_col3{\n",
       "            background-color:  #e7e3f0;\n",
       "            color:  #000000;\n",
       "        }#T_f0312060_8dc3_11ec_95fb_2079180c711erow7_col5{\n",
       "            background-color:  #c8cde4;\n",
       "            color:  #000000;\n",
       "        }#T_f0312060_8dc3_11ec_95fb_2079180c711erow7_col10,#T_f0312060_8dc3_11ec_95fb_2079180c711erow10_col8{\n",
       "            background-color:  #ede8f3;\n",
       "            color:  #000000;\n",
       "        }#T_f0312060_8dc3_11ec_95fb_2079180c711erow8_col1{\n",
       "            background-color:  #d6d6e9;\n",
       "            color:  #000000;\n",
       "        }#T_f0312060_8dc3_11ec_95fb_2079180c711erow8_col3,#T_f0312060_8dc3_11ec_95fb_2079180c711erow8_col7{\n",
       "            background-color:  #e8e4f0;\n",
       "            color:  #000000;\n",
       "        }#T_f0312060_8dc3_11ec_95fb_2079180c711erow8_col5{\n",
       "            background-color:  #f1ebf5;\n",
       "            color:  #000000;\n",
       "        }#T_f0312060_8dc3_11ec_95fb_2079180c711erow8_col6,#T_f0312060_8dc3_11ec_95fb_2079180c711erow10_col6{\n",
       "            background-color:  #e0dded;\n",
       "            color:  #000000;\n",
       "        }#T_f0312060_8dc3_11ec_95fb_2079180c711erow8_col9{\n",
       "            background-color:  #9fbad9;\n",
       "            color:  #000000;\n",
       "        }#T_f0312060_8dc3_11ec_95fb_2079180c711erow8_col10{\n",
       "            background-color:  #ced0e6;\n",
       "            color:  #000000;\n",
       "        }#T_f0312060_8dc3_11ec_95fb_2079180c711erow9_col1{\n",
       "            background-color:  #eae6f1;\n",
       "            color:  #000000;\n",
       "        }#T_f0312060_8dc3_11ec_95fb_2079180c711erow9_col5{\n",
       "            background-color:  #e2dfee;\n",
       "            color:  #000000;\n",
       "        }#T_f0312060_8dc3_11ec_95fb_2079180c711erow9_col7{\n",
       "            background-color:  #d1d2e6;\n",
       "            color:  #000000;\n",
       "        }#T_f0312060_8dc3_11ec_95fb_2079180c711erow9_col8{\n",
       "            background-color:  #b7c5df;\n",
       "            color:  #000000;\n",
       "        }#T_f0312060_8dc3_11ec_95fb_2079180c711erow10_col2{\n",
       "            background-color:  #afc1dd;\n",
       "            color:  #000000;\n",
       "        }#T_f0312060_8dc3_11ec_95fb_2079180c711erow10_col3{\n",
       "            background-color:  #ede7f2;\n",
       "            color:  #000000;\n",
       "        }</style><table id=\"T_f0312060_8dc3_11ec_95fb_2079180c711e\" ><thead>    <tr>        <th class=\"blank level0\" ></th>        <th class=\"col_heading level0 col0\" >cena</th>        <th class=\"col_heading level0 col1\" >sira_lokacija</th>        <th class=\"col_heading level0 col2\" >uza_lokacija</th>        <th class=\"col_heading level0 col3\" >povrsina</th>        <th class=\"col_heading level0 col4\" >broj_soba</th>        <th class=\"col_heading level0 col5\" >uknjizenost</th>        <th class=\"col_heading level0 col6\" >grejanje</th>        <th class=\"col_heading level0 col7\" >stanje</th>        <th class=\"col_heading level0 col8\" >spratnost</th>        <th class=\"col_heading level0 col9\" >infrastruktura</th>        <th class=\"col_heading level0 col10\" >udaljenost_od_centra</th>    </tr></thead><tbody>\n",
       "                <tr>\n",
       "                        <th id=\"T_f0312060_8dc3_11ec_95fb_2079180c711elevel0_row0\" class=\"row_heading level0 row0\" >cena</th>\n",
       "                        <td id=\"T_f0312060_8dc3_11ec_95fb_2079180c711erow0_col0\" class=\"data row0 col0\" >1.000000</td>\n",
       "                        <td id=\"T_f0312060_8dc3_11ec_95fb_2079180c711erow0_col1\" class=\"data row0 col1\" >-0.003213</td>\n",
       "                        <td id=\"T_f0312060_8dc3_11ec_95fb_2079180c711erow0_col2\" class=\"data row0 col2\" >-0.113937</td>\n",
       "                        <td id=\"T_f0312060_8dc3_11ec_95fb_2079180c711erow0_col3\" class=\"data row0 col3\" >0.805744</td>\n",
       "                        <td id=\"T_f0312060_8dc3_11ec_95fb_2079180c711erow0_col4\" class=\"data row0 col4\" >0.627019</td>\n",
       "                        <td id=\"T_f0312060_8dc3_11ec_95fb_2079180c711erow0_col5\" class=\"data row0 col5\" >0.065570</td>\n",
       "                        <td id=\"T_f0312060_8dc3_11ec_95fb_2079180c711erow0_col6\" class=\"data row0 col6\" >-0.136461</td>\n",
       "                        <td id=\"T_f0312060_8dc3_11ec_95fb_2079180c711erow0_col7\" class=\"data row0 col7\" >-0.092531</td>\n",
       "                        <td id=\"T_f0312060_8dc3_11ec_95fb_2079180c711erow0_col8\" class=\"data row0 col8\" >-0.111359</td>\n",
       "                        <td id=\"T_f0312060_8dc3_11ec_95fb_2079180c711erow0_col9\" class=\"data row0 col9\" >-0.185690</td>\n",
       "                        <td id=\"T_f0312060_8dc3_11ec_95fb_2079180c711erow0_col10\" class=\"data row0 col10\" >-0.321846</td>\n",
       "            </tr>\n",
       "            <tr>\n",
       "                        <th id=\"T_f0312060_8dc3_11ec_95fb_2079180c711elevel0_row1\" class=\"row_heading level0 row1\" >sira_lokacija</th>\n",
       "                        <td id=\"T_f0312060_8dc3_11ec_95fb_2079180c711erow1_col0\" class=\"data row1 col0\" >-0.003213</td>\n",
       "                        <td id=\"T_f0312060_8dc3_11ec_95fb_2079180c711erow1_col1\" class=\"data row1 col1\" >1.000000</td>\n",
       "                        <td id=\"T_f0312060_8dc3_11ec_95fb_2079180c711erow1_col2\" class=\"data row1 col2\" >0.525389</td>\n",
       "                        <td id=\"T_f0312060_8dc3_11ec_95fb_2079180c711erow1_col3\" class=\"data row1 col3\" >0.030730</td>\n",
       "                        <td id=\"T_f0312060_8dc3_11ec_95fb_2079180c711erow1_col4\" class=\"data row1 col4\" >0.035514</td>\n",
       "                        <td id=\"T_f0312060_8dc3_11ec_95fb_2079180c711erow1_col5\" class=\"data row1 col5\" >-0.130286</td>\n",
       "                        <td id=\"T_f0312060_8dc3_11ec_95fb_2079180c711erow1_col6\" class=\"data row1 col6\" >0.115548</td>\n",
       "                        <td id=\"T_f0312060_8dc3_11ec_95fb_2079180c711erow1_col7\" class=\"data row1 col7\" >-0.156640</td>\n",
       "                        <td id=\"T_f0312060_8dc3_11ec_95fb_2079180c711erow1_col8\" class=\"data row1 col8\" >0.102597</td>\n",
       "                        <td id=\"T_f0312060_8dc3_11ec_95fb_2079180c711erow1_col9\" class=\"data row1 col9\" >-0.002599</td>\n",
       "                        <td id=\"T_f0312060_8dc3_11ec_95fb_2079180c711erow1_col10\" class=\"data row1 col10\" >0.071247</td>\n",
       "            </tr>\n",
       "            <tr>\n",
       "                        <th id=\"T_f0312060_8dc3_11ec_95fb_2079180c711elevel0_row2\" class=\"row_heading level0 row2\" >uza_lokacija</th>\n",
       "                        <td id=\"T_f0312060_8dc3_11ec_95fb_2079180c711erow2_col0\" class=\"data row2 col0\" >-0.113937</td>\n",
       "                        <td id=\"T_f0312060_8dc3_11ec_95fb_2079180c711erow2_col1\" class=\"data row2 col1\" >0.525389</td>\n",
       "                        <td id=\"T_f0312060_8dc3_11ec_95fb_2079180c711erow2_col2\" class=\"data row2 col2\" >1.000000</td>\n",
       "                        <td id=\"T_f0312060_8dc3_11ec_95fb_2079180c711erow2_col3\" class=\"data row2 col3\" >0.002899</td>\n",
       "                        <td id=\"T_f0312060_8dc3_11ec_95fb_2079180c711erow2_col4\" class=\"data row2 col4\" >0.014073</td>\n",
       "                        <td id=\"T_f0312060_8dc3_11ec_95fb_2079180c711erow2_col5\" class=\"data row2 col5\" >-0.068141</td>\n",
       "                        <td id=\"T_f0312060_8dc3_11ec_95fb_2079180c711erow2_col6\" class=\"data row2 col6\" >0.104909</td>\n",
       "                        <td id=\"T_f0312060_8dc3_11ec_95fb_2079180c711erow2_col7\" class=\"data row2 col7\" >-0.087068</td>\n",
       "                        <td id=\"T_f0312060_8dc3_11ec_95fb_2079180c711erow2_col8\" class=\"data row2 col8\" >0.109512</td>\n",
       "                        <td id=\"T_f0312060_8dc3_11ec_95fb_2079180c711erow2_col9\" class=\"data row2 col9\" >-0.068001</td>\n",
       "                        <td id=\"T_f0312060_8dc3_11ec_95fb_2079180c711erow2_col10\" class=\"data row2 col10\" >0.274628</td>\n",
       "            </tr>\n",
       "            <tr>\n",
       "                        <th id=\"T_f0312060_8dc3_11ec_95fb_2079180c711elevel0_row3\" class=\"row_heading level0 row3\" >povrsina</th>\n",
       "                        <td id=\"T_f0312060_8dc3_11ec_95fb_2079180c711erow3_col0\" class=\"data row3 col0\" >0.805744</td>\n",
       "                        <td id=\"T_f0312060_8dc3_11ec_95fb_2079180c711erow3_col1\" class=\"data row3 col1\" >0.030730</td>\n",
       "                        <td id=\"T_f0312060_8dc3_11ec_95fb_2079180c711erow3_col2\" class=\"data row3 col2\" >0.002899</td>\n",
       "                        <td id=\"T_f0312060_8dc3_11ec_95fb_2079180c711erow3_col3\" class=\"data row3 col3\" >1.000000</td>\n",
       "                        <td id=\"T_f0312060_8dc3_11ec_95fb_2079180c711erow3_col4\" class=\"data row3 col4\" >0.775798</td>\n",
       "                        <td id=\"T_f0312060_8dc3_11ec_95fb_2079180c711erow3_col5\" class=\"data row3 col5\" >0.058988</td>\n",
       "                        <td id=\"T_f0312060_8dc3_11ec_95fb_2079180c711erow3_col6\" class=\"data row3 col6\" >-0.120246</td>\n",
       "                        <td id=\"T_f0312060_8dc3_11ec_95fb_2079180c711erow3_col7\" class=\"data row3 col7\" >-0.062238</td>\n",
       "                        <td id=\"T_f0312060_8dc3_11ec_95fb_2079180c711erow3_col8\" class=\"data row3 col8\" >-0.066998</td>\n",
       "                        <td id=\"T_f0312060_8dc3_11ec_95fb_2079180c711erow3_col9\" class=\"data row3 col9\" >-0.242317</td>\n",
       "                        <td id=\"T_f0312060_8dc3_11ec_95fb_2079180c711erow3_col10\" class=\"data row3 col10\" >-0.089743</td>\n",
       "            </tr>\n",
       "            <tr>\n",
       "                        <th id=\"T_f0312060_8dc3_11ec_95fb_2079180c711elevel0_row4\" class=\"row_heading level0 row4\" >broj_soba</th>\n",
       "                        <td id=\"T_f0312060_8dc3_11ec_95fb_2079180c711erow4_col0\" class=\"data row4 col0\" >0.627019</td>\n",
       "                        <td id=\"T_f0312060_8dc3_11ec_95fb_2079180c711erow4_col1\" class=\"data row4 col1\" >0.035514</td>\n",
       "                        <td id=\"T_f0312060_8dc3_11ec_95fb_2079180c711erow4_col2\" class=\"data row4 col2\" >0.014073</td>\n",
       "                        <td id=\"T_f0312060_8dc3_11ec_95fb_2079180c711erow4_col3\" class=\"data row4 col3\" >0.775798</td>\n",
       "                        <td id=\"T_f0312060_8dc3_11ec_95fb_2079180c711erow4_col4\" class=\"data row4 col4\" >1.000000</td>\n",
       "                        <td id=\"T_f0312060_8dc3_11ec_95fb_2079180c711erow4_col5\" class=\"data row4 col5\" >0.056824</td>\n",
       "                        <td id=\"T_f0312060_8dc3_11ec_95fb_2079180c711erow4_col6\" class=\"data row4 col6\" >-0.111529</td>\n",
       "                        <td id=\"T_f0312060_8dc3_11ec_95fb_2079180c711erow4_col7\" class=\"data row4 col7\" >-0.011993</td>\n",
       "                        <td id=\"T_f0312060_8dc3_11ec_95fb_2079180c711erow4_col8\" class=\"data row4 col8\" >-0.117781</td>\n",
       "                        <td id=\"T_f0312060_8dc3_11ec_95fb_2079180c711erow4_col9\" class=\"data row4 col9\" >-0.209514</td>\n",
       "                        <td id=\"T_f0312060_8dc3_11ec_95fb_2079180c711erow4_col10\" class=\"data row4 col10\" >-0.117067</td>\n",
       "            </tr>\n",
       "            <tr>\n",
       "                        <th id=\"T_f0312060_8dc3_11ec_95fb_2079180c711elevel0_row5\" class=\"row_heading level0 row5\" >uknjizenost</th>\n",
       "                        <td id=\"T_f0312060_8dc3_11ec_95fb_2079180c711erow5_col0\" class=\"data row5 col0\" >0.065570</td>\n",
       "                        <td id=\"T_f0312060_8dc3_11ec_95fb_2079180c711erow5_col1\" class=\"data row5 col1\" >-0.130286</td>\n",
       "                        <td id=\"T_f0312060_8dc3_11ec_95fb_2079180c711erow5_col2\" class=\"data row5 col2\" >-0.068141</td>\n",
       "                        <td id=\"T_f0312060_8dc3_11ec_95fb_2079180c711erow5_col3\" class=\"data row5 col3\" >0.058988</td>\n",
       "                        <td id=\"T_f0312060_8dc3_11ec_95fb_2079180c711erow5_col4\" class=\"data row5 col4\" >0.056824</td>\n",
       "                        <td id=\"T_f0312060_8dc3_11ec_95fb_2079180c711erow5_col5\" class=\"data row5 col5\" >1.000000</td>\n",
       "                        <td id=\"T_f0312060_8dc3_11ec_95fb_2079180c711erow5_col6\" class=\"data row5 col6\" >-0.044154</td>\n",
       "                        <td id=\"T_f0312060_8dc3_11ec_95fb_2079180c711erow5_col7\" class=\"data row5 col7\" >0.180631</td>\n",
       "                        <td id=\"T_f0312060_8dc3_11ec_95fb_2079180c711erow5_col8\" class=\"data row5 col8\" >-0.024446</td>\n",
       "                        <td id=\"T_f0312060_8dc3_11ec_95fb_2079180c711erow5_col9\" class=\"data row5 col9\" >0.063015</td>\n",
       "                        <td id=\"T_f0312060_8dc3_11ec_95fb_2079180c711erow5_col10\" class=\"data row5 col10\" >-0.058976</td>\n",
       "            </tr>\n",
       "            <tr>\n",
       "                        <th id=\"T_f0312060_8dc3_11ec_95fb_2079180c711elevel0_row6\" class=\"row_heading level0 row6\" >grejanje</th>\n",
       "                        <td id=\"T_f0312060_8dc3_11ec_95fb_2079180c711erow6_col0\" class=\"data row6 col0\" >-0.136461</td>\n",
       "                        <td id=\"T_f0312060_8dc3_11ec_95fb_2079180c711erow6_col1\" class=\"data row6 col1\" >0.115548</td>\n",
       "                        <td id=\"T_f0312060_8dc3_11ec_95fb_2079180c711erow6_col2\" class=\"data row6 col2\" >0.104909</td>\n",
       "                        <td id=\"T_f0312060_8dc3_11ec_95fb_2079180c711erow6_col3\" class=\"data row6 col3\" >-0.120246</td>\n",
       "                        <td id=\"T_f0312060_8dc3_11ec_95fb_2079180c711erow6_col4\" class=\"data row6 col4\" >-0.111529</td>\n",
       "                        <td id=\"T_f0312060_8dc3_11ec_95fb_2079180c711erow6_col5\" class=\"data row6 col5\" >-0.044154</td>\n",
       "                        <td id=\"T_f0312060_8dc3_11ec_95fb_2079180c711erow6_col6\" class=\"data row6 col6\" >1.000000</td>\n",
       "                        <td id=\"T_f0312060_8dc3_11ec_95fb_2079180c711erow6_col7\" class=\"data row6 col7\" >-0.064174</td>\n",
       "                        <td id=\"T_f0312060_8dc3_11ec_95fb_2079180c711erow6_col8\" class=\"data row6 col8\" >0.068828</td>\n",
       "                        <td id=\"T_f0312060_8dc3_11ec_95fb_2079180c711erow6_col9\" class=\"data row6 col9\" >0.115748</td>\n",
       "                        <td id=\"T_f0312060_8dc3_11ec_95fb_2079180c711erow6_col10\" class=\"data row6 col10\" >0.071645</td>\n",
       "            </tr>\n",
       "            <tr>\n",
       "                        <th id=\"T_f0312060_8dc3_11ec_95fb_2079180c711elevel0_row7\" class=\"row_heading level0 row7\" >stanje</th>\n",
       "                        <td id=\"T_f0312060_8dc3_11ec_95fb_2079180c711erow7_col0\" class=\"data row7 col0\" >-0.092531</td>\n",
       "                        <td id=\"T_f0312060_8dc3_11ec_95fb_2079180c711erow7_col1\" class=\"data row7 col1\" >-0.156640</td>\n",
       "                        <td id=\"T_f0312060_8dc3_11ec_95fb_2079180c711erow7_col2\" class=\"data row7 col2\" >-0.087068</td>\n",
       "                        <td id=\"T_f0312060_8dc3_11ec_95fb_2079180c711erow7_col3\" class=\"data row7 col3\" >-0.062238</td>\n",
       "                        <td id=\"T_f0312060_8dc3_11ec_95fb_2079180c711erow7_col4\" class=\"data row7 col4\" >-0.011993</td>\n",
       "                        <td id=\"T_f0312060_8dc3_11ec_95fb_2079180c711erow7_col5\" class=\"data row7 col5\" >0.180631</td>\n",
       "                        <td id=\"T_f0312060_8dc3_11ec_95fb_2079180c711erow7_col6\" class=\"data row7 col6\" >-0.064174</td>\n",
       "                        <td id=\"T_f0312060_8dc3_11ec_95fb_2079180c711erow7_col7\" class=\"data row7 col7\" >1.000000</td>\n",
       "                        <td id=\"T_f0312060_8dc3_11ec_95fb_2079180c711erow7_col8\" class=\"data row7 col8\" >-0.002166</td>\n",
       "                        <td id=\"T_f0312060_8dc3_11ec_95fb_2079180c711erow7_col9\" class=\"data row7 col9\" >0.122457</td>\n",
       "                        <td id=\"T_f0312060_8dc3_11ec_95fb_2079180c711erow7_col10\" class=\"data row7 col10\" >-0.166287</td>\n",
       "            </tr>\n",
       "            <tr>\n",
       "                        <th id=\"T_f0312060_8dc3_11ec_95fb_2079180c711elevel0_row8\" class=\"row_heading level0 row8\" >spratnost</th>\n",
       "                        <td id=\"T_f0312060_8dc3_11ec_95fb_2079180c711erow8_col0\" class=\"data row8 col0\" >-0.111359</td>\n",
       "                        <td id=\"T_f0312060_8dc3_11ec_95fb_2079180c711erow8_col1\" class=\"data row8 col1\" >0.102597</td>\n",
       "                        <td id=\"T_f0312060_8dc3_11ec_95fb_2079180c711erow8_col2\" class=\"data row8 col2\" >0.109512</td>\n",
       "                        <td id=\"T_f0312060_8dc3_11ec_95fb_2079180c711erow8_col3\" class=\"data row8 col3\" >-0.066998</td>\n",
       "                        <td id=\"T_f0312060_8dc3_11ec_95fb_2079180c711erow8_col4\" class=\"data row8 col4\" >-0.117781</td>\n",
       "                        <td id=\"T_f0312060_8dc3_11ec_95fb_2079180c711erow8_col5\" class=\"data row8 col5\" >-0.024446</td>\n",
       "                        <td id=\"T_f0312060_8dc3_11ec_95fb_2079180c711erow8_col6\" class=\"data row8 col6\" >0.068828</td>\n",
       "                        <td id=\"T_f0312060_8dc3_11ec_95fb_2079180c711erow8_col7\" class=\"data row8 col7\" >-0.002166</td>\n",
       "                        <td id=\"T_f0312060_8dc3_11ec_95fb_2079180c711erow8_col8\" class=\"data row8 col8\" >1.000000</td>\n",
       "                        <td id=\"T_f0312060_8dc3_11ec_95fb_2079180c711erow8_col9\" class=\"data row8 col9\" >0.245619</td>\n",
       "                        <td id=\"T_f0312060_8dc3_11ec_95fb_2079180c711erow8_col10\" class=\"data row8 col10\" >0.017088</td>\n",
       "            </tr>\n",
       "            <tr>\n",
       "                        <th id=\"T_f0312060_8dc3_11ec_95fb_2079180c711elevel0_row9\" class=\"row_heading level0 row9\" >infrastruktura</th>\n",
       "                        <td id=\"T_f0312060_8dc3_11ec_95fb_2079180c711erow9_col0\" class=\"data row9 col0\" >-0.185690</td>\n",
       "                        <td id=\"T_f0312060_8dc3_11ec_95fb_2079180c711erow9_col1\" class=\"data row9 col1\" >-0.002599</td>\n",
       "                        <td id=\"T_f0312060_8dc3_11ec_95fb_2079180c711erow9_col2\" class=\"data row9 col2\" >-0.068001</td>\n",
       "                        <td id=\"T_f0312060_8dc3_11ec_95fb_2079180c711erow9_col3\" class=\"data row9 col3\" >-0.242317</td>\n",
       "                        <td id=\"T_f0312060_8dc3_11ec_95fb_2079180c711erow9_col4\" class=\"data row9 col4\" >-0.209514</td>\n",
       "                        <td id=\"T_f0312060_8dc3_11ec_95fb_2079180c711erow9_col5\" class=\"data row9 col5\" >0.063015</td>\n",
       "                        <td id=\"T_f0312060_8dc3_11ec_95fb_2079180c711erow9_col6\" class=\"data row9 col6\" >0.115748</td>\n",
       "                        <td id=\"T_f0312060_8dc3_11ec_95fb_2079180c711erow9_col7\" class=\"data row9 col7\" >0.122457</td>\n",
       "                        <td id=\"T_f0312060_8dc3_11ec_95fb_2079180c711erow9_col8\" class=\"data row9 col8\" >0.245619</td>\n",
       "                        <td id=\"T_f0312060_8dc3_11ec_95fb_2079180c711erow9_col9\" class=\"data row9 col9\" >1.000000</td>\n",
       "                        <td id=\"T_f0312060_8dc3_11ec_95fb_2079180c711erow9_col10\" class=\"data row9 col10\" >-0.100840</td>\n",
       "            </tr>\n",
       "            <tr>\n",
       "                        <th id=\"T_f0312060_8dc3_11ec_95fb_2079180c711elevel0_row10\" class=\"row_heading level0 row10\" >udaljenost_od_centra</th>\n",
       "                        <td id=\"T_f0312060_8dc3_11ec_95fb_2079180c711erow10_col0\" class=\"data row10 col0\" >-0.321846</td>\n",
       "                        <td id=\"T_f0312060_8dc3_11ec_95fb_2079180c711erow10_col1\" class=\"data row10 col1\" >0.071247</td>\n",
       "                        <td id=\"T_f0312060_8dc3_11ec_95fb_2079180c711erow10_col2\" class=\"data row10 col2\" >0.274628</td>\n",
       "                        <td id=\"T_f0312060_8dc3_11ec_95fb_2079180c711erow10_col3\" class=\"data row10 col3\" >-0.089743</td>\n",
       "                        <td id=\"T_f0312060_8dc3_11ec_95fb_2079180c711erow10_col4\" class=\"data row10 col4\" >-0.117067</td>\n",
       "                        <td id=\"T_f0312060_8dc3_11ec_95fb_2079180c711erow10_col5\" class=\"data row10 col5\" >-0.058976</td>\n",
       "                        <td id=\"T_f0312060_8dc3_11ec_95fb_2079180c711erow10_col6\" class=\"data row10 col6\" >0.071645</td>\n",
       "                        <td id=\"T_f0312060_8dc3_11ec_95fb_2079180c711erow10_col7\" class=\"data row10 col7\" >-0.166287</td>\n",
       "                        <td id=\"T_f0312060_8dc3_11ec_95fb_2079180c711erow10_col8\" class=\"data row10 col8\" >0.017088</td>\n",
       "                        <td id=\"T_f0312060_8dc3_11ec_95fb_2079180c711erow10_col9\" class=\"data row10 col9\" >-0.100840</td>\n",
       "                        <td id=\"T_f0312060_8dc3_11ec_95fb_2079180c711erow10_col10\" class=\"data row10 col10\" >1.000000</td>\n",
       "            </tr>\n",
       "    </tbody></table>"
      ],
      "text/plain": [
       "<pandas.io.formats.style.Styler at 0x7f8dc4e86940>"
      ]
     },
     "execution_count": 24,
     "metadata": {},
     "output_type": "execute_result"
    }
   ],
   "source": [
    "df1 = df.copy()\n",
    "\n",
    "df.dropna(inplace=True)\n",
    "\n",
    "df.sira_lokacija = df.sira_lokacija.astype('category').cat.codes\n",
    "df.uza_lokacija = df.uza_lokacija.astype('category').cat.codes\n",
    "df.broj_soba=df.broj_soba.astype('category').cat.codes\n",
    "df.uknjizenost=df.uknjizenost.astype('category').cat.codes\n",
    "df.grejanje=df.grejanje.astype('category').cat.codes\n",
    "df.stanje=df.stanje.astype('category').cat.codes\n",
    "df.spratnost=df.spratnost.astype('category').cat.codes\n",
    "df.infrastruktura=df.infrastruktura.astype('category').cat.codes\n",
    "\n",
    "corr_matx=df.corr()\n",
    "corr_matx\n",
    "corr_matx.style.background_gradient()\n",
    "\n"
   ]
  },
  {
   "cell_type": "code",
   "execution_count": 25,
   "metadata": {},
   "outputs": [],
   "source": [
    "df=df1"
   ]
  },
  {
   "cell_type": "code",
   "execution_count": 26,
   "metadata": {},
   "outputs": [
    {
     "name": "stdout",
     "output_type": "stream",
     "text": [
      "148\n"
     ]
    },
    {
     "data": {
      "text/plain": [
       "Boleč              1\n",
       "Rospi Ćuprija      1\n",
       "Rudo               1\n",
       "Ćalije             1\n",
       "Karađorđev park    1\n",
       "Andrićev Venac     1\n",
       "Sremčica           1\n",
       "Blok 9a            1\n",
       "Leštane            1\n",
       "Barajevo           1\n",
       "Resnik             1\n",
       "Prokop             1\n",
       "Blok 20 - Hajat    1\n",
       "Atelje 212         1\n",
       "Stara Bežanija     1\n",
       "Kneza Miloša       1\n",
       "Blok 41a           1\n",
       "Mali Mokri Lug     1\n",
       "Jajinci            1\n",
       "Blok 32            1\n",
       "Name: uza_lokacija, dtype: int64"
      ]
     },
     "execution_count": 26,
     "metadata": {},
     "output_type": "execute_result"
    }
   ],
   "source": [
    "##objasnjenje za uza_lokacija - desio bi se overfitting + korelacija sa udaljenoscu od centra\n",
    "print(len(df.uza_lokacija.unique()))\n",
    "df.uza_lokacija.value_counts().sort_values()[:20]"
   ]
  },
  {
   "cell_type": "markdown",
   "metadata": {},
   "source": [
    "## Zbog slabe korelacije - brisemo sira_lokacija, uknjizenost, stanje "
   ]
  },
  {
   "cell_type": "code",
   "execution_count": 27,
   "metadata": {},
   "outputs": [],
   "source": [
    "cols = ['sira_lokacija', 'uknjizenost', 'stanje']\n",
    "df.drop(cols, axis=1, inplace=True)"
   ]
  },
  {
   "cell_type": "markdown",
   "metadata": {},
   "source": [
    "## Zbog uticaja multikolinearnosti (odnos povrsine i broja soba) - brisemo broj_soba"
   ]
  },
  {
   "cell_type": "code",
   "execution_count": 28,
   "metadata": {},
   "outputs": [],
   "source": [
    "cols = ['broj_soba']\n",
    "df.drop(cols, axis=1, inplace=True)"
   ]
  },
  {
   "cell_type": "markdown",
   "metadata": {},
   "source": [
    "## Zbog velikog broja mogucih vrednosti i zbog korelacije sa udaljenoscu od centra- brisemo uza_lokacija"
   ]
  },
  {
   "cell_type": "code",
   "execution_count": 29,
   "metadata": {},
   "outputs": [],
   "source": [
    "cols = ['uza_lokacija']\n",
    "df.drop(cols, axis=1, inplace=True)"
   ]
  },
  {
   "cell_type": "markdown",
   "metadata": {},
   "source": [
    "## Outliers povrsina/cena"
   ]
  },
  {
   "cell_type": "code",
   "execution_count": 30,
   "metadata": {},
   "outputs": [
    {
     "data": {
      "image/png": "[encoded data removed]",
      "text/plain": [
       "<Figure size 432x288 with 1 Axes>"
      ]
     },
     "metadata": {
      "needs_background": "light"
     },
     "output_type": "display_data"
    }
   ],
   "source": [
    "fig, ax = plt.subplots()\n",
    "ax.scatter(x = df['povrsina'], y = df['cena'])\n",
    "plt.ylabel('cena', fontsize=13)\n",
    "plt.xlabel('povrsina', fontsize=13)\n",
    "plt.show()"
   ]
  },
  {
   "cell_type": "code",
   "execution_count": 46,
   "metadata": {},
   "outputs": [
    {
     "data": {
      "text/html": [
       "<div>\n",
       "<style scoped>\n",
       "    .dataframe tbody tr th:only-of-type {\n",
       "        vertical-align: middle;\n",
       "    }\n",
       "\n",
       "    .dataframe tbody tr th {\n",
       "        vertical-align: top;\n",
       "    }\n",
       "\n",
       "    .dataframe thead th {\n",
       "        text-align: right;\n",
       "    }\n",
       "</style>\n",
       "<table border=\"1\" class=\"dataframe\">\n",
       "  <thead>\n",
       "    <tr style=\"text-align: right;\">\n",
       "      <th></th>\n",
       "      <th>cena</th>\n",
       "      <th>povrsina</th>\n",
       "      <th>grejanje</th>\n",
       "      <th>spratnost</th>\n",
       "      <th>infrastruktura</th>\n",
       "      <th>udaljenost_od_centra</th>\n",
       "    </tr>\n",
       "  </thead>\n",
       "  <tbody>\n",
       "    <tr>\n",
       "      <th>5581</th>\n",
       "      <td>1285888.0</td>\n",
       "      <td>150.0</td>\n",
       "      <td>centralno grejanje</td>\n",
       "      <td>4</td>\n",
       "      <td>nema</td>\n",
       "      <td>1.582482</td>\n",
       "    </tr>\n",
       "    <tr>\n",
       "      <th>7091</th>\n",
       "      <td>1341888.0</td>\n",
       "      <td>152.0</td>\n",
       "      <td>centralno grejanje</td>\n",
       "      <td>4</td>\n",
       "      <td>ima</td>\n",
       "      <td>0.649134</td>\n",
       "    </tr>\n",
       "    <tr>\n",
       "      <th>7630</th>\n",
       "      <td>1380000.0</td>\n",
       "      <td>290.0</td>\n",
       "      <td>centralno grejanje</td>\n",
       "      <td>2</td>\n",
       "      <td>ima</td>\n",
       "      <td>3.390880</td>\n",
       "    </tr>\n",
       "    <tr>\n",
       "      <th>7631</th>\n",
       "      <td>1080000.0</td>\n",
       "      <td>261.0</td>\n",
       "      <td>centralno grejanje</td>\n",
       "      <td>prizemlje</td>\n",
       "      <td>ima</td>\n",
       "      <td>3.390880</td>\n",
       "    </tr>\n",
       "    <tr>\n",
       "      <th>7835</th>\n",
       "      <td>1387888.0</td>\n",
       "      <td>161.0</td>\n",
       "      <td>centralno grejanje</td>\n",
       "      <td>4</td>\n",
       "      <td>ima</td>\n",
       "      <td>0.649134</td>\n",
       "    </tr>\n",
       "  </tbody>\n",
       "</table>\n",
       "</div>"
      ],
      "text/plain": [
       "           cena  povrsina            grejanje  spratnost infrastruktura  \\\n",
       "5581  1285888.0     150.0  centralno grejanje          4           nema   \n",
       "7091  1341888.0     152.0  centralno grejanje          4            ima   \n",
       "7630  1380000.0     290.0  centralno grejanje          2            ima   \n",
       "7631  1080000.0     261.0  centralno grejanje  prizemlje            ima   \n",
       "7835  1387888.0     161.0  centralno grejanje          4            ima   \n",
       "\n",
       "      udaljenost_od_centra  \n",
       "5581              1.582482  \n",
       "7091              0.649134  \n",
       "7630              3.390880  \n",
       "7631              3.390880  \n",
       "7835              0.649134  "
      ]
     },
     "execution_count": 46,
     "metadata": {},
     "output_type": "execute_result"
    }
   ],
   "source": [
    "df[df.cena > 1000000]"
   ]
  },
  {
   "cell_type": "markdown",
   "metadata": {},
   "source": [
    "## Pocisti preostale nan vrednosti"
   ]
  },
  {
   "cell_type": "code",
   "execution_count": 31,
   "metadata": {},
   "outputs": [],
   "source": [
    "df = df.dropna()"
   ]
  },
  {
   "cell_type": "code",
   "execution_count": 32,
   "metadata": {},
   "outputs": [
    {
     "name": "stdout",
     "output_type": "stream",
     "text": [
      "<class 'pandas.core.frame.DataFrame'>\n",
      "Int64Index: 2695 entries, 3 to 15214\n",
      "Data columns (total 6 columns):\n",
      " #   Column                Non-Null Count  Dtype  \n",
      "---  ------                --------------  -----  \n",
      " 0   cena                  2695 non-null   float64\n",
      " 1   povrsina              2695 non-null   float64\n",
      " 2   grejanje              2695 non-null   object \n",
      " 3   spratnost             2695 non-null   object \n",
      " 4   infrastruktura        2695 non-null   object \n",
      " 5   udaljenost_od_centra  2695 non-null   float64\n",
      "dtypes: float64(3), object(3)\n",
      "memory usage: 147.4+ KB\n"
     ]
    }
   ],
   "source": [
    "df.info()"
   ]
  },
  {
   "cell_type": "code",
   "execution_count": 33,
   "metadata": {},
   "outputs": [],
   "source": [
    "df.to_csv('./ready_data_backup.csv', encoding='utf-8', index=False)"
   ]
  },
  {
   "cell_type": "code",
   "execution_count": 34,
   "metadata": {},
   "outputs": [
    {
     "name": "stdout",
     "output_type": "stream",
     "text": [
      "ok\n"
     ]
    }
   ],
   "source": [
    "print('ok')"
   ]
  }
 ],
 "metadata": {
  "kernelspec": {
   "display_name": "Python 3",
   "language": "python",
   "name": "python3"
  },
  "language_info": {
   "codemirror_mode": {
    "name": "ipython",
    "version": 3
   },
   "file_extension": ".py",
   "mimetype": "text/x-python",
   "name": "python",
   "nbconvert_exporter": "python",
   "pygments_lexer": "ipython3",
   "version": "3.6.9"
  }
 },
 "nbformat": 4,
 "nbformat_minor": 4
}
